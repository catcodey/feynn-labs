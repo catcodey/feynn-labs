{
 "cells": [
  {
   "cell_type": "code",
   "execution_count": 1,
   "id": "6a3dc7a5-0ee8-4ab9-8ef2-d45e5dcfd404",
   "metadata": {},
   "outputs": [],
   "source": [
    "import pandas as pd"
   ]
  },
  {
   "cell_type": "code",
   "execution_count": 2,
   "id": "3b43a111-29cb-47fc-863c-6ff39a449854",
   "metadata": {},
   "outputs": [
    {
     "name": "stderr",
     "output_type": "stream",
     "text": [
      "C:\\Users\\Admin\\AppData\\Local\\Temp\\ipykernel_16596\\626646933.py:1: DtypeWarning: Columns (6) have mixed types. Specify dtype option on import or set low_memory=False.\n",
      "  data=pd.read_csv(\"data.csv\")\n"
     ]
    }
   ],
   "source": [
    "data=pd.read_csv(\"data.csv\")"
   ]
  },
  {
   "cell_type": "code",
   "execution_count": 6,
   "id": "345986b6-2153-41b8-9b18-cc4ecb7cfc1e",
   "metadata": {},
   "outputs": [
    {
     "data": {
      "text/plain": [
       "(100000, 11)"
      ]
     },
     "execution_count": 6,
     "metadata": {},
     "output_type": "execute_result"
    }
   ],
   "source": [
    "data=data[0:100000]\n",
    "data.shape"
   ]
  },
  {
   "cell_type": "code",
   "execution_count": 3,
   "id": "7b57b66f-afa6-42ab-bf66-9e017c3392e6",
   "metadata": {},
   "outputs": [
    {
     "data": {
      "text/plain": [
       "(1000019, 11)"
      ]
     },
     "execution_count": 3,
     "metadata": {},
     "output_type": "execute_result"
    }
   ],
   "source": [
    "\n",
    "data.shape"
   ]
  },
  {
   "cell_type": "code",
   "execution_count": 4,
   "id": "79cc36f7-affe-427e-9cbf-97a480b60e54",
   "metadata": {},
   "outputs": [
    {
     "data": {
      "text/plain": [
       "name           Attend team meeting\n",
       "type                      Learning\n",
       "description    Review code changes\n",
       "priority                       Low\n",
       "Unnamed: 4                      83\n",
       "Unnamed: 5                     111\n",
       "Unnamed: 6                      76\n",
       "time                4/1/2023 12:00\n",
       "Unnamed: 8                      80\n",
       "yesno                         Over\n",
       "rating                        Good\n",
       "Name: 92789, dtype: object"
      ]
     },
     "execution_count": 4,
     "metadata": {},
     "output_type": "execute_result"
    }
   ],
   "source": [
    "data.iloc[92789]"
   ]
  },
  {
   "cell_type": "code",
   "execution_count": 9,
   "id": "f8f4f780-6e92-42ca-a148-9a8d85767556",
   "metadata": {},
   "outputs": [
    {
     "name": "stdout",
     "output_type": "stream",
     "text": [
      "<class 'pandas.core.frame.DataFrame'>\n",
      "RangeIndex: 100000 entries, 0 to 99999\n",
      "Data columns (total 11 columns):\n",
      " #   Column       Non-Null Count   Dtype \n",
      "---  ------       --------------   ----- \n",
      " 0   name         100000 non-null  object\n",
      " 1   type         100000 non-null  object\n",
      " 2   description  100000 non-null  object\n",
      " 3   priority     100000 non-null  object\n",
      " 4   Unnamed: 4   100000 non-null  int64 \n",
      " 5   Unnamed: 5   100000 non-null  int64 \n",
      " 6   Unnamed: 6   100000 non-null  object\n",
      " 7   time         100000 non-null  object\n",
      " 8   Unnamed: 8   100000 non-null  int64 \n",
      " 9   yesno        100000 non-null  object\n",
      " 10  rating       100000 non-null  object\n",
      "dtypes: int64(3), object(8)\n",
      "memory usage: 8.4+ MB\n"
     ]
    }
   ],
   "source": [
    "data.info()"
   ]
  },
  {
   "cell_type": "code",
   "execution_count": 10,
   "id": "23c89f5f-0bcc-44e3-bd3d-aa7593f26a80",
   "metadata": {},
   "outputs": [
    {
     "data": {
      "text/plain": [
       "array(['Good', 'Fair', 'Excellent'], dtype=object)"
      ]
     },
     "execution_count": 10,
     "metadata": {},
     "output_type": "execute_result"
    }
   ],
   "source": [
    "data[\"rating\"].unique()"
   ]
  },
  {
   "cell_type": "code",
   "execution_count": null,
   "id": "d71ee06d-462c-4901-a990-04960233f4de",
   "metadata": {},
   "outputs": [],
   "source": [
    "c=0\n",
    "for i in data['time']:\n",
    " c=c+1\n",
    " print(i.split()[1][0:2],c)"
   ]
  },
  {
   "cell_type": "code",
   "execution_count": 12,
   "id": "7efe9217-f765-4e4c-8550-d2f1aab2ae79",
   "metadata": {},
   "outputs": [],
   "source": [
    "time_list=[]\n",
    "\n",
    "for i in data['time']:\n",
    " time_list.append(i.split()[1][0:2])\n",
    "data['time1']=time_list\n"
   ]
  },
  {
   "cell_type": "code",
   "execution_count": 13,
   "id": "eee2ebe1-3629-4c06-b74e-1e4a948b8e34",
   "metadata": {},
   "outputs": [
    {
     "data": {
      "text/html": [
       "<div>\n",
       "<style scoped>\n",
       "    .dataframe tbody tr th:only-of-type {\n",
       "        vertical-align: middle;\n",
       "    }\n",
       "\n",
       "    .dataframe tbody tr th {\n",
       "        vertical-align: top;\n",
       "    }\n",
       "\n",
       "    .dataframe thead th {\n",
       "        text-align: right;\n",
       "    }\n",
       "</style>\n",
       "<table border=\"1\" class=\"dataframe\">\n",
       "  <thead>\n",
       "    <tr style=\"text-align: right;\">\n",
       "      <th></th>\n",
       "      <th>name</th>\n",
       "      <th>type</th>\n",
       "      <th>description</th>\n",
       "      <th>priority</th>\n",
       "      <th>Unnamed: 4</th>\n",
       "      <th>Unnamed: 5</th>\n",
       "      <th>Unnamed: 6</th>\n",
       "      <th>time</th>\n",
       "      <th>Unnamed: 8</th>\n",
       "      <th>yesno</th>\n",
       "      <th>rating</th>\n",
       "      <th>time1</th>\n",
       "    </tr>\n",
       "  </thead>\n",
       "  <tbody>\n",
       "    <tr>\n",
       "      <th>0</th>\n",
       "      <td>Complete coding challenge</td>\n",
       "      <td>Learning</td>\n",
       "      <td>Submit a functioning solution</td>\n",
       "      <td>Medium</td>\n",
       "      <td>215</td>\n",
       "      <td>186</td>\n",
       "      <td>99</td>\n",
       "      <td>3/28/2023 14:00</td>\n",
       "      <td>110</td>\n",
       "      <td>Under</td>\n",
       "      <td>Good</td>\n",
       "      <td>14</td>\n",
       "    </tr>\n",
       "    <tr>\n",
       "      <th>1</th>\n",
       "      <td>Code refactoring</td>\n",
       "      <td>Learning</td>\n",
       "      <td>Submit a functioning solution</td>\n",
       "      <td>High</td>\n",
       "      <td>122</td>\n",
       "      <td>136</td>\n",
       "      <td>76</td>\n",
       "      <td>3/28/2023 14:00</td>\n",
       "      <td>420</td>\n",
       "      <td>Over</td>\n",
       "      <td>Good</td>\n",
       "      <td>14</td>\n",
       "    </tr>\n",
       "    <tr>\n",
       "      <th>2</th>\n",
       "      <td>Attending conference</td>\n",
       "      <td>Learning</td>\n",
       "      <td>Fix errors in code</td>\n",
       "      <td>High</td>\n",
       "      <td>94</td>\n",
       "      <td>81</td>\n",
       "      <td>78</td>\n",
       "      <td>4/4/2023 11:00</td>\n",
       "      <td>220</td>\n",
       "      <td>Under</td>\n",
       "      <td>Good</td>\n",
       "      <td>11</td>\n",
       "    </tr>\n",
       "    <tr>\n",
       "      <th>3</th>\n",
       "      <td>Learning new technology</td>\n",
       "      <td>Work</td>\n",
       "      <td>Discuss project progress</td>\n",
       "      <td>Low</td>\n",
       "      <td>240</td>\n",
       "      <td>329</td>\n",
       "      <td>99</td>\n",
       "      <td>4/1/2023 12:00</td>\n",
       "      <td>130</td>\n",
       "      <td>Over</td>\n",
       "      <td>Good</td>\n",
       "      <td>12</td>\n",
       "    </tr>\n",
       "    <tr>\n",
       "      <th>4</th>\n",
       "      <td>Attending conference</td>\n",
       "      <td>Learning</td>\n",
       "      <td>Discuss project progress</td>\n",
       "      <td>High</td>\n",
       "      <td>205</td>\n",
       "      <td>137</td>\n",
       "      <td>76</td>\n",
       "      <td>4/5/2023 18:00</td>\n",
       "      <td>250</td>\n",
       "      <td>Under</td>\n",
       "      <td>Good</td>\n",
       "      <td>18</td>\n",
       "    </tr>\n",
       "    <tr>\n",
       "      <th>5</th>\n",
       "      <td>Writing technical documentation</td>\n",
       "      <td>Learning</td>\n",
       "      <td>Refactor existing code</td>\n",
       "      <td>High</td>\n",
       "      <td>90</td>\n",
       "      <td>47</td>\n",
       "      <td>65</td>\n",
       "      <td>4/4/2023 11:00</td>\n",
       "      <td>55</td>\n",
       "      <td>Under</td>\n",
       "      <td>Fair</td>\n",
       "      <td>11</td>\n",
       "    </tr>\n",
       "    <tr>\n",
       "      <th>6</th>\n",
       "      <td>Learning new technology</td>\n",
       "      <td>Learning</td>\n",
       "      <td>Discuss project progress</td>\n",
       "      <td>Medium</td>\n",
       "      <td>92</td>\n",
       "      <td>118</td>\n",
       "      <td>95</td>\n",
       "      <td>3/30/2023 14:00</td>\n",
       "      <td>190</td>\n",
       "      <td>Over</td>\n",
       "      <td>Good</td>\n",
       "      <td>14</td>\n",
       "    </tr>\n",
       "    <tr>\n",
       "      <th>7</th>\n",
       "      <td>Code refactoring</td>\n",
       "      <td>Learning</td>\n",
       "      <td>Write technical document</td>\n",
       "      <td>Medium</td>\n",
       "      <td>143</td>\n",
       "      <td>178</td>\n",
       "      <td>79</td>\n",
       "      <td>4/4/2023 11:00</td>\n",
       "      <td>250</td>\n",
       "      <td>Over</td>\n",
       "      <td>Good</td>\n",
       "      <td>11</td>\n",
       "    </tr>\n",
       "    <tr>\n",
       "      <th>8</th>\n",
       "      <td>Code refactoring</td>\n",
       "      <td>Work</td>\n",
       "      <td>Discuss project progress</td>\n",
       "      <td>Medium</td>\n",
       "      <td>89</td>\n",
       "      <td>88</td>\n",
       "      <td>86</td>\n",
       "      <td>3/30/2023 14:00</td>\n",
       "      <td>250</td>\n",
       "      <td>Under</td>\n",
       "      <td>Good</td>\n",
       "      <td>14</td>\n",
       "    </tr>\n",
       "    <tr>\n",
       "      <th>9</th>\n",
       "      <td>Writing technical documentation</td>\n",
       "      <td>Learning</td>\n",
       "      <td>Network with peers</td>\n",
       "      <td>High</td>\n",
       "      <td>176</td>\n",
       "      <td>259</td>\n",
       "      <td>67</td>\n",
       "      <td>3/31/2023 16:00</td>\n",
       "      <td>130</td>\n",
       "      <td>Over</td>\n",
       "      <td>Fair</td>\n",
       "      <td>16</td>\n",
       "    </tr>\n",
       "  </tbody>\n",
       "</table>\n",
       "</div>"
      ],
      "text/plain": [
       "                              name      type                    description  \\\n",
       "0        Complete coding challenge  Learning  Submit a functioning solution   \n",
       "1                 Code refactoring  Learning  Submit a functioning solution   \n",
       "2             Attending conference  Learning             Fix errors in code   \n",
       "3          Learning new technology      Work       Discuss project progress   \n",
       "4             Attending conference  Learning       Discuss project progress   \n",
       "5  Writing technical documentation  Learning         Refactor existing code   \n",
       "6          Learning new technology  Learning       Discuss project progress   \n",
       "7                 Code refactoring  Learning       Write technical document   \n",
       "8                 Code refactoring      Work       Discuss project progress   \n",
       "9  Writing technical documentation  Learning             Network with peers   \n",
       "\n",
       "  priority  Unnamed: 4  Unnamed: 5 Unnamed: 6             time  Unnamed: 8  \\\n",
       "0   Medium         215         186         99  3/28/2023 14:00         110   \n",
       "1     High         122         136         76  3/28/2023 14:00         420   \n",
       "2     High          94          81         78   4/4/2023 11:00         220   \n",
       "3      Low         240         329         99   4/1/2023 12:00         130   \n",
       "4     High         205         137         76   4/5/2023 18:00         250   \n",
       "5     High          90          47         65   4/4/2023 11:00          55   \n",
       "6   Medium          92         118         95  3/30/2023 14:00         190   \n",
       "7   Medium         143         178         79   4/4/2023 11:00         250   \n",
       "8   Medium          89          88         86  3/30/2023 14:00         250   \n",
       "9     High         176         259         67  3/31/2023 16:00         130   \n",
       "\n",
       "   yesno rating time1  \n",
       "0  Under   Good    14  \n",
       "1   Over   Good    14  \n",
       "2  Under   Good    11  \n",
       "3   Over   Good    12  \n",
       "4  Under   Good    18  \n",
       "5  Under   Fair    11  \n",
       "6   Over   Good    14  \n",
       "7   Over   Good    11  \n",
       "8  Under   Good    14  \n",
       "9   Over   Fair    16  "
      ]
     },
     "execution_count": 13,
     "metadata": {},
     "output_type": "execute_result"
    }
   ],
   "source": [
    "#refernece\n",
    "data.head(10)"
   ]
  },
  {
   "cell_type": "code",
   "execution_count": 14,
   "id": "676ebab0-e71c-4075-8ae7-e8b9ef28d3e9",
   "metadata": {},
   "outputs": [],
   "source": [
    "prio=[]\n",
    "for i in data['priority']:\n",
    "  if i==\"High\":\n",
    "    prio.append(2)\n",
    "  elif i==\"Medium\":\n",
    "    prio.append(1)\n",
    "  else :\n",
    "    prio.append(0)\n",
    "data['priority']=prio"
   ]
  },
  {
   "cell_type": "code",
   "execution_count": 15,
   "id": "82853cce-8690-49a2-8ed2-addc52e31d23",
   "metadata": {},
   "outputs": [
    {
     "data": {
      "text/html": [
       "<div>\n",
       "<style scoped>\n",
       "    .dataframe tbody tr th:only-of-type {\n",
       "        vertical-align: middle;\n",
       "    }\n",
       "\n",
       "    .dataframe tbody tr th {\n",
       "        vertical-align: top;\n",
       "    }\n",
       "\n",
       "    .dataframe thead th {\n",
       "        text-align: right;\n",
       "    }\n",
       "</style>\n",
       "<table border=\"1\" class=\"dataframe\">\n",
       "  <thead>\n",
       "    <tr style=\"text-align: right;\">\n",
       "      <th></th>\n",
       "      <th>name</th>\n",
       "      <th>type</th>\n",
       "      <th>description</th>\n",
       "      <th>priority</th>\n",
       "      <th>Unnamed: 4</th>\n",
       "      <th>Unnamed: 5</th>\n",
       "      <th>Unnamed: 6</th>\n",
       "      <th>time</th>\n",
       "      <th>Unnamed: 8</th>\n",
       "      <th>yesno</th>\n",
       "      <th>rating</th>\n",
       "      <th>time1</th>\n",
       "    </tr>\n",
       "  </thead>\n",
       "  <tbody>\n",
       "    <tr>\n",
       "      <th>0</th>\n",
       "      <td>Complete coding challenge</td>\n",
       "      <td>Learning</td>\n",
       "      <td>Submit a functioning solution</td>\n",
       "      <td>1</td>\n",
       "      <td>215</td>\n",
       "      <td>186</td>\n",
       "      <td>99</td>\n",
       "      <td>3/28/2023 14:00</td>\n",
       "      <td>110</td>\n",
       "      <td>Under</td>\n",
       "      <td>Good</td>\n",
       "      <td>14</td>\n",
       "    </tr>\n",
       "    <tr>\n",
       "      <th>1</th>\n",
       "      <td>Code refactoring</td>\n",
       "      <td>Learning</td>\n",
       "      <td>Submit a functioning solution</td>\n",
       "      <td>2</td>\n",
       "      <td>122</td>\n",
       "      <td>136</td>\n",
       "      <td>76</td>\n",
       "      <td>3/28/2023 14:00</td>\n",
       "      <td>420</td>\n",
       "      <td>Over</td>\n",
       "      <td>Good</td>\n",
       "      <td>14</td>\n",
       "    </tr>\n",
       "    <tr>\n",
       "      <th>2</th>\n",
       "      <td>Attending conference</td>\n",
       "      <td>Learning</td>\n",
       "      <td>Fix errors in code</td>\n",
       "      <td>2</td>\n",
       "      <td>94</td>\n",
       "      <td>81</td>\n",
       "      <td>78</td>\n",
       "      <td>4/4/2023 11:00</td>\n",
       "      <td>220</td>\n",
       "      <td>Under</td>\n",
       "      <td>Good</td>\n",
       "      <td>11</td>\n",
       "    </tr>\n",
       "    <tr>\n",
       "      <th>3</th>\n",
       "      <td>Learning new technology</td>\n",
       "      <td>Work</td>\n",
       "      <td>Discuss project progress</td>\n",
       "      <td>0</td>\n",
       "      <td>240</td>\n",
       "      <td>329</td>\n",
       "      <td>99</td>\n",
       "      <td>4/1/2023 12:00</td>\n",
       "      <td>130</td>\n",
       "      <td>Over</td>\n",
       "      <td>Good</td>\n",
       "      <td>12</td>\n",
       "    </tr>\n",
       "    <tr>\n",
       "      <th>4</th>\n",
       "      <td>Attending conference</td>\n",
       "      <td>Learning</td>\n",
       "      <td>Discuss project progress</td>\n",
       "      <td>2</td>\n",
       "      <td>205</td>\n",
       "      <td>137</td>\n",
       "      <td>76</td>\n",
       "      <td>4/5/2023 18:00</td>\n",
       "      <td>250</td>\n",
       "      <td>Under</td>\n",
       "      <td>Good</td>\n",
       "      <td>18</td>\n",
       "    </tr>\n",
       "    <tr>\n",
       "      <th>5</th>\n",
       "      <td>Writing technical documentation</td>\n",
       "      <td>Learning</td>\n",
       "      <td>Refactor existing code</td>\n",
       "      <td>2</td>\n",
       "      <td>90</td>\n",
       "      <td>47</td>\n",
       "      <td>65</td>\n",
       "      <td>4/4/2023 11:00</td>\n",
       "      <td>55</td>\n",
       "      <td>Under</td>\n",
       "      <td>Fair</td>\n",
       "      <td>11</td>\n",
       "    </tr>\n",
       "    <tr>\n",
       "      <th>6</th>\n",
       "      <td>Learning new technology</td>\n",
       "      <td>Learning</td>\n",
       "      <td>Discuss project progress</td>\n",
       "      <td>1</td>\n",
       "      <td>92</td>\n",
       "      <td>118</td>\n",
       "      <td>95</td>\n",
       "      <td>3/30/2023 14:00</td>\n",
       "      <td>190</td>\n",
       "      <td>Over</td>\n",
       "      <td>Good</td>\n",
       "      <td>14</td>\n",
       "    </tr>\n",
       "    <tr>\n",
       "      <th>7</th>\n",
       "      <td>Code refactoring</td>\n",
       "      <td>Learning</td>\n",
       "      <td>Write technical document</td>\n",
       "      <td>1</td>\n",
       "      <td>143</td>\n",
       "      <td>178</td>\n",
       "      <td>79</td>\n",
       "      <td>4/4/2023 11:00</td>\n",
       "      <td>250</td>\n",
       "      <td>Over</td>\n",
       "      <td>Good</td>\n",
       "      <td>11</td>\n",
       "    </tr>\n",
       "    <tr>\n",
       "      <th>8</th>\n",
       "      <td>Code refactoring</td>\n",
       "      <td>Work</td>\n",
       "      <td>Discuss project progress</td>\n",
       "      <td>1</td>\n",
       "      <td>89</td>\n",
       "      <td>88</td>\n",
       "      <td>86</td>\n",
       "      <td>3/30/2023 14:00</td>\n",
       "      <td>250</td>\n",
       "      <td>Under</td>\n",
       "      <td>Good</td>\n",
       "      <td>14</td>\n",
       "    </tr>\n",
       "    <tr>\n",
       "      <th>9</th>\n",
       "      <td>Writing technical documentation</td>\n",
       "      <td>Learning</td>\n",
       "      <td>Network with peers</td>\n",
       "      <td>2</td>\n",
       "      <td>176</td>\n",
       "      <td>259</td>\n",
       "      <td>67</td>\n",
       "      <td>3/31/2023 16:00</td>\n",
       "      <td>130</td>\n",
       "      <td>Over</td>\n",
       "      <td>Fair</td>\n",
       "      <td>16</td>\n",
       "    </tr>\n",
       "  </tbody>\n",
       "</table>\n",
       "</div>"
      ],
      "text/plain": [
       "                              name      type                    description  \\\n",
       "0        Complete coding challenge  Learning  Submit a functioning solution   \n",
       "1                 Code refactoring  Learning  Submit a functioning solution   \n",
       "2             Attending conference  Learning             Fix errors in code   \n",
       "3          Learning new technology      Work       Discuss project progress   \n",
       "4             Attending conference  Learning       Discuss project progress   \n",
       "5  Writing technical documentation  Learning         Refactor existing code   \n",
       "6          Learning new technology  Learning       Discuss project progress   \n",
       "7                 Code refactoring  Learning       Write technical document   \n",
       "8                 Code refactoring      Work       Discuss project progress   \n",
       "9  Writing technical documentation  Learning             Network with peers   \n",
       "\n",
       "   priority  Unnamed: 4  Unnamed: 5 Unnamed: 6             time  Unnamed: 8  \\\n",
       "0         1         215         186         99  3/28/2023 14:00         110   \n",
       "1         2         122         136         76  3/28/2023 14:00         420   \n",
       "2         2          94          81         78   4/4/2023 11:00         220   \n",
       "3         0         240         329         99   4/1/2023 12:00         130   \n",
       "4         2         205         137         76   4/5/2023 18:00         250   \n",
       "5         2          90          47         65   4/4/2023 11:00          55   \n",
       "6         1          92         118         95  3/30/2023 14:00         190   \n",
       "7         1         143         178         79   4/4/2023 11:00         250   \n",
       "8         1          89          88         86  3/30/2023 14:00         250   \n",
       "9         2         176         259         67  3/31/2023 16:00         130   \n",
       "\n",
       "   yesno rating time1  \n",
       "0  Under   Good    14  \n",
       "1   Over   Good    14  \n",
       "2  Under   Good    11  \n",
       "3   Over   Good    12  \n",
       "4  Under   Good    18  \n",
       "5  Under   Fair    11  \n",
       "6   Over   Good    14  \n",
       "7   Over   Good    11  \n",
       "8  Under   Good    14  \n",
       "9   Over   Fair    16  "
      ]
     },
     "execution_count": 15,
     "metadata": {},
     "output_type": "execute_result"
    }
   ],
   "source": [
    "data.head(10)"
   ]
  },
  {
   "cell_type": "code",
   "execution_count": 16,
   "id": "c4e9c4d2-9ab3-48ec-823b-b6ee7d50d441",
   "metadata": {},
   "outputs": [],
   "source": [
    "task_type=[]\n",
    "for i in data['type']:\n",
    "  if i==\"Learning\":\n",
    "    task_type.append(0)\n",
    "  elif i==\"Work\":\n",
    "    task_type.append(1)\n",
    "\n",
    "data['type']=task_type"
   ]
  },
  {
   "cell_type": "code",
   "execution_count": 17,
   "id": "28bc9404-98d0-41c0-a2ff-50bc769cc11b",
   "metadata": {},
   "outputs": [
    {
     "data": {
      "text/plain": [
       "array(['Good', 'Fair', 'Excellent'], dtype=object)"
      ]
     },
     "execution_count": 17,
     "metadata": {},
     "output_type": "execute_result"
    }
   ],
   "source": [
    "data['rating'].unique()"
   ]
  },
  {
   "cell_type": "code",
   "execution_count": 18,
   "id": "4be902b7-3481-4404-95d2-e5ae048ef88e",
   "metadata": {},
   "outputs": [
    {
     "name": "stdout",
     "output_type": "stream",
     "text": [
      "{0, 1, 2}\n",
      "['Excellent' 'Fair' 'Good']\n"
     ]
    }
   ],
   "source": [
    "from sklearn.preprocessing import LabelEncoder\n",
    "\n",
    "# Sample data\n",
    "rating_list=data['rating']\n",
    "\n",
    "# Create a LabelEncoder instance\n",
    "label_encoder = LabelEncoder()\n",
    "\n",
    "# Fit the LabelEncoder to your data and transform the 'task' column\n",
    "encoded_task = label_encoder.fit_transform(rating_list)\n",
    "\n",
    "data['rating']=encoded_task\n",
    "print(set(encoded_task))\n",
    "print(label_encoder.classes_)"
   ]
  },
  {
   "cell_type": "code",
   "execution_count": 19,
   "id": "3631936d-71db-463b-88cc-5026757b0a3d",
   "metadata": {},
   "outputs": [
    {
     "name": "stdout",
     "output_type": "stream",
     "text": [
      "{0, 1, 2, 3, 4, 5, 6, 7}\n",
      "['10' '11' '12' '14' '15' '16' '17' '18']\n"
     ]
    }
   ],
   "source": [
    "from sklearn.preprocessing import LabelEncoder\n",
    "\n",
    "# Sample data\n",
    "timing_list=data['time1']\n",
    "\n",
    "# Create a LabelEncoder instance\n",
    "label_encoder = LabelEncoder()\n",
    "\n",
    "# Fit the LabelEncoder to your data and transform the 'task' column\n",
    "encoded_task = label_encoder.fit_transform(timing_list)\n",
    "\n",
    "data['time1']=encoded_task\n",
    "print(set(encoded_task))\n",
    "print(label_encoder.classes_)"
   ]
  },
  {
   "cell_type": "code",
   "execution_count": 20,
   "id": "7851fbf6-8387-4f9a-aee1-df4bbdf285c7",
   "metadata": {},
   "outputs": [
    {
     "data": {
      "text/html": [
       "<div>\n",
       "<style scoped>\n",
       "    .dataframe tbody tr th:only-of-type {\n",
       "        vertical-align: middle;\n",
       "    }\n",
       "\n",
       "    .dataframe tbody tr th {\n",
       "        vertical-align: top;\n",
       "    }\n",
       "\n",
       "    .dataframe thead th {\n",
       "        text-align: right;\n",
       "    }\n",
       "</style>\n",
       "<table border=\"1\" class=\"dataframe\">\n",
       "  <thead>\n",
       "    <tr style=\"text-align: right;\">\n",
       "      <th></th>\n",
       "      <th>actual time</th>\n",
       "      <th>encoded time</th>\n",
       "    </tr>\n",
       "  </thead>\n",
       "  <tbody>\n",
       "    <tr>\n",
       "      <th>0</th>\n",
       "      <td>14</td>\n",
       "      <td>3</td>\n",
       "    </tr>\n",
       "    <tr>\n",
       "      <th>1</th>\n",
       "      <td>14</td>\n",
       "      <td>3</td>\n",
       "    </tr>\n",
       "    <tr>\n",
       "      <th>2</th>\n",
       "      <td>11</td>\n",
       "      <td>1</td>\n",
       "    </tr>\n",
       "    <tr>\n",
       "      <th>3</th>\n",
       "      <td>12</td>\n",
       "      <td>2</td>\n",
       "    </tr>\n",
       "    <tr>\n",
       "      <th>4</th>\n",
       "      <td>18</td>\n",
       "      <td>7</td>\n",
       "    </tr>\n",
       "  </tbody>\n",
       "</table>\n",
       "</div>"
      ],
      "text/plain": [
       "  actual time  encoded time\n",
       "0          14             3\n",
       "1          14             3\n",
       "2          11             1\n",
       "3          12             2\n",
       "4          18             7"
      ]
     },
     "execution_count": 20,
     "metadata": {},
     "output_type": "execute_result"
    }
   ],
   "source": [
    "df=pd.DataFrame({'actual time':time_list,'encoded time':encoded_task})\n",
    "df.head()"
   ]
  },
  {
   "cell_type": "code",
   "execution_count": 21,
   "id": "5b41ba0e-cd98-446d-998f-a85b1f6f428b",
   "metadata": {},
   "outputs": [
    {
     "name": "stderr",
     "output_type": "stream",
     "text": [
      "C:\\Users\\Admin\\AppData\\Local\\Programs\\Python\\Python311\\Lib\\site-packages\\seaborn\\_oldcore.py:1498: FutureWarning: is_categorical_dtype is deprecated and will be removed in a future version. Use isinstance(dtype, CategoricalDtype) instead\n",
      "  if pd.api.types.is_categorical_dtype(vector):\n",
      "C:\\Users\\Admin\\AppData\\Local\\Programs\\Python\\Python311\\Lib\\site-packages\\seaborn\\_oldcore.py:1498: FutureWarning: is_categorical_dtype is deprecated and will be removed in a future version. Use isinstance(dtype, CategoricalDtype) instead\n",
      "  if pd.api.types.is_categorical_dtype(vector):\n",
      "C:\\Users\\Admin\\AppData\\Local\\Programs\\Python\\Python311\\Lib\\site-packages\\seaborn\\_oldcore.py:1498: FutureWarning: is_categorical_dtype is deprecated and will be removed in a future version. Use isinstance(dtype, CategoricalDtype) instead\n",
      "  if pd.api.types.is_categorical_dtype(vector):\n"
     ]
    },
    {
     "data": {
      "image/png": "[encoded data removed]",
      "text/plain": [
       "<Figure size 640x480 with 1 Axes>"
      ]
     },
     "metadata": {},
     "output_type": "display_data"
    }
   ],
   "source": [
    "import matplotlib.pyplot as plt\n",
    "import seaborn as sns \n",
    "sns.countplot(x=\"priority\",data=data,palette=\"viridis\")\n",
    "plt.xlabel(\"priority\") \n",
    "plt.ylabel(\"count\") \n",
    "plt.title(\"priority count\")\n",
    "\n",
    "plt.xticks(ticks=plt.xticks()[0], labels=[\"High\",\"Medium\",\"Low\"])\n",
    "\n",
    "\n",
    "plt.show()"
   ]
  },
  {
   "cell_type": "code",
   "execution_count": 22,
   "id": "24294027-6f2b-4c4a-b028-ceb939a771d8",
   "metadata": {},
   "outputs": [
    {
     "name": "stdout",
     "output_type": "stream",
     "text": [
      "33374 33229 33397\n"
     ]
    }
   ],
   "source": [
    "a=data[data[\"priority\"]==0].count()[\"name\"]\n",
    "b=data[data[\"priority\"]==1].count()[\"name\"]\n",
    "c=data[data[\"priority\"]==2].count()[\"name\"]\n",
    "print(a,b,c)"
   ]
  },
  {
   "cell_type": "code",
   "execution_count": 23,
   "id": "f496e0af-1f55-42a0-8798-6b39f0f9ebd2",
   "metadata": {},
   "outputs": [],
   "source": [
    "z=data[\"rating\"].value_counts()"
   ]
  },
  {
   "cell_type": "code",
   "execution_count": 24,
   "id": "d3b490df-33a6-42de-9627-8b54cae46daf",
   "metadata": {},
   "outputs": [
    {
     "name": "stderr",
     "output_type": "stream",
     "text": [
      "C:\\Users\\Admin\\AppData\\Local\\Programs\\Python\\Python311\\Lib\\site-packages\\seaborn\\_oldcore.py:1498: FutureWarning: is_categorical_dtype is deprecated and will be removed in a future version. Use isinstance(dtype, CategoricalDtype) instead\n",
      "  if pd.api.types.is_categorical_dtype(vector):\n",
      "C:\\Users\\Admin\\AppData\\Local\\Programs\\Python\\Python311\\Lib\\site-packages\\seaborn\\_oldcore.py:1498: FutureWarning: is_categorical_dtype is deprecated and will be removed in a future version. Use isinstance(dtype, CategoricalDtype) instead\n",
      "  if pd.api.types.is_categorical_dtype(vector):\n",
      "C:\\Users\\Admin\\AppData\\Local\\Programs\\Python\\Python311\\Lib\\site-packages\\seaborn\\_oldcore.py:1498: FutureWarning: is_categorical_dtype is deprecated and will be removed in a future version. Use isinstance(dtype, CategoricalDtype) instead\n",
      "  if pd.api.types.is_categorical_dtype(vector):\n"
     ]
    },
    {
     "data": {
      "image/png": "[encoded data removed]",
      "text/plain": [
       "<Figure size 640x480 with 1 Axes>"
      ]
     },
     "metadata": {},
     "output_type": "display_data"
    }
   ],
   "source": [
    "import matplotlib.pyplot as plt\n",
    "import seaborn as sns\n",
    "sns.countplot(x=\"rating\",data=data,palette=\"viridis\")\n",
    "plt.xlabel(\"rating\")\n",
    "plt.ylabel(\"count\")\n",
    "plt.title(\"rating count\")\n",
    "\n",
    "plt.xticks(ticks=plt.xticks()[0], labels=[\"Excellent\",\"Fair\",\"Good\"])\n",
    "\n",
    "# Show plot\n",
    "plt.show()\n"
   ]
  },
  {
   "cell_type": "code",
   "execution_count": 25,
   "id": "9c895790-e4a0-4f2c-bc12-04fe6ac23ed6",
   "metadata": {},
   "outputs": [
    {
     "name": "stderr",
     "output_type": "stream",
     "text": [
      "C:\\Users\\Admin\\AppData\\Local\\Programs\\Python\\Python311\\Lib\\site-packages\\seaborn\\_oldcore.py:1498: FutureWarning: is_categorical_dtype is deprecated and will be removed in a future version. Use isinstance(dtype, CategoricalDtype) instead\n",
      "  if pd.api.types.is_categorical_dtype(vector):\n",
      "C:\\Users\\Admin\\AppData\\Local\\Programs\\Python\\Python311\\Lib\\site-packages\\seaborn\\_oldcore.py:1498: FutureWarning: is_categorical_dtype is deprecated and will be removed in a future version. Use isinstance(dtype, CategoricalDtype) instead\n",
      "  if pd.api.types.is_categorical_dtype(vector):\n",
      "C:\\Users\\Admin\\AppData\\Local\\Programs\\Python\\Python311\\Lib\\site-packages\\seaborn\\_oldcore.py:1119: FutureWarning: use_inf_as_na option is deprecated and will be removed in a future version. Convert inf values to NaN before operating instead.\n",
      "  with pd.option_context('mode.use_inf_as_na', True):\n",
      "C:\\Users\\Admin\\AppData\\Local\\Programs\\Python\\Python311\\Lib\\site-packages\\seaborn\\_oldcore.py:1119: FutureWarning: use_inf_as_na option is deprecated and will be removed in a future version. Convert inf values to NaN before operating instead.\n",
      "  with pd.option_context('mode.use_inf_as_na', True):\n"
     ]
    },
    {
     "data": {
      "text/plain": [
       "Text(0.5, 1.0, 'productivity level based on time')"
      ]
     },
     "execution_count": 25,
     "metadata": {},
     "output_type": "execute_result"
    },
    {
     "data": {
      "image/png": "[encoded data removed]",
      "text/plain": [
       "<Figure size 640x480 with 1 Axes>"
      ]
     },
     "metadata": {},
     "output_type": "display_data"
    }
   ],
   "source": [
    "\n",
    "sns.lineplot(y=\"rating\",x=\"time1\",data=data,marker='o')\n",
    "plt.xlabel(\"time\")\n",
    "plt.ylabel(\"rating\")\n",
    "plt.title(\"productivity level based on time\")"
   ]
  },
  {
   "cell_type": "code",
   "execution_count": 26,
   "id": "b8b7d0c3-3399-4027-9c75-d7100b845e98",
   "metadata": {},
   "outputs": [
    {
     "name": "stderr",
     "output_type": "stream",
     "text": [
      "C:\\Users\\Admin\\AppData\\Local\\Programs\\Python\\Python311\\Lib\\site-packages\\seaborn\\_oldcore.py:1498: FutureWarning: is_categorical_dtype is deprecated and will be removed in a future version. Use isinstance(dtype, CategoricalDtype) instead\n",
      "  if pd.api.types.is_categorical_dtype(vector):\n",
      "C:\\Users\\Admin\\AppData\\Local\\Programs\\Python\\Python311\\Lib\\site-packages\\seaborn\\_oldcore.py:1498: FutureWarning: is_categorical_dtype is deprecated and will be removed in a future version. Use isinstance(dtype, CategoricalDtype) instead\n",
      "  if pd.api.types.is_categorical_dtype(vector):\n",
      "C:\\Users\\Admin\\AppData\\Local\\Programs\\Python\\Python311\\Lib\\site-packages\\seaborn\\_oldcore.py:1498: FutureWarning: is_categorical_dtype is deprecated and will be removed in a future version. Use isinstance(dtype, CategoricalDtype) instead\n",
      "  if pd.api.types.is_categorical_dtype(vector):\n"
     ]
    },
    {
     "data": {
      "image/png": "[encoded data removed]",
      "text/plain": [
       "<Figure size 640x480 with 1 Axes>"
      ]
     },
     "metadata": {},
     "output_type": "display_data"
    }
   ],
   "source": [
    "import matplotlib.pyplot as plt\n",
    "import seaborn as sns\n",
    "sns.barplot(y=\"type\",x=\"time1\",data=data)\n",
    "plt.xlabel(\"time\")\n",
    "plt.ylabel(\"type\")\n",
    "plt.title(\"barchart based on type of work and time\")\n",
    "\n",
    "#plt.xticks(ticks=plt.xticks()[0], labels=[\"0\",\"1pm\",\"2pm\",\"3pm\",\"4pm\",\"5pm\",\"6pm\",\"7pm\"])\n",
    "\n",
    "# Show plot\n",
    "plt.show()"
   ]
  },
  {
   "cell_type": "code",
   "execution_count": 27,
   "id": "02f87226-d770-4104-99ac-914dae803ba6",
   "metadata": {},
   "outputs": [
    {
     "name": "stderr",
     "output_type": "stream",
     "text": [
      "C:\\Users\\Admin\\AppData\\Local\\Programs\\Python\\Python311\\Lib\\site-packages\\seaborn\\_oldcore.py:1498: FutureWarning: is_categorical_dtype is deprecated and will be removed in a future version. Use isinstance(dtype, CategoricalDtype) instead\n",
      "  if pd.api.types.is_categorical_dtype(vector):\n",
      "C:\\Users\\Admin\\AppData\\Local\\Programs\\Python\\Python311\\Lib\\site-packages\\seaborn\\_oldcore.py:1498: FutureWarning: is_categorical_dtype is deprecated and will be removed in a future version. Use isinstance(dtype, CategoricalDtype) instead\n",
      "  if pd.api.types.is_categorical_dtype(vector):\n",
      "C:\\Users\\Admin\\AppData\\Local\\Programs\\Python\\Python311\\Lib\\site-packages\\seaborn\\_oldcore.py:1498: FutureWarning: is_categorical_dtype is deprecated and will be removed in a future version. Use isinstance(dtype, CategoricalDtype) instead\n",
      "  if pd.api.types.is_categorical_dtype(vector):\n",
      "C:\\Users\\Admin\\AppData\\Local\\Programs\\Python\\Python311\\Lib\\site-packages\\seaborn\\_oldcore.py:1498: FutureWarning: is_categorical_dtype is deprecated and will be removed in a future version. Use isinstance(dtype, CategoricalDtype) instead\n",
      "  if pd.api.types.is_categorical_dtype(vector):\n"
     ]
    },
    {
     "data": {
      "image/png": "[encoded data removed]",
      "text/plain": [
       "<Figure size 640x480 with 1 Axes>"
      ]
     },
     "metadata": {},
     "output_type": "display_data"
    }
   ],
   "source": [
    "import matplotlib.pyplot as plt\n",
    "import seaborn as sns\n",
    "sns.barplot(y=\"priority\",x=\"type\",data=data,hue='priority')\n",
    "plt.xlabel(\"type(work/learning)\")\n",
    "plt.ylabel(\"priority\")\n",
    "plt.title(\"barchart based on type and priority\")\n",
    "\n",
    "#plt.xticks(ticks=plt.xticks()[0], labels=[\"0\",\"1pm\",\"2pm\",\"3pm\",\"4pm\",\"5pm\",\"6pm\",\"7pm\"])\n",
    "\n",
    "# Show plot\n",
    "plt.show()"
   ]
  },
  {
   "cell_type": "code",
   "execution_count": 28,
   "id": "ec740146-6858-4359-a3a9-bd670e6b746a",
   "metadata": {},
   "outputs": [
    {
     "name": "stderr",
     "output_type": "stream",
     "text": [
      "C:\\Users\\Admin\\AppData\\Local\\Programs\\Python\\Python311\\Lib\\site-packages\\seaborn\\_oldcore.py:1498: FutureWarning: is_categorical_dtype is deprecated and will be removed in a future version. Use isinstance(dtype, CategoricalDtype) instead\n",
      "  if pd.api.types.is_categorical_dtype(vector):\n",
      "C:\\Users\\Admin\\AppData\\Local\\Programs\\Python\\Python311\\Lib\\site-packages\\seaborn\\_oldcore.py:1498: FutureWarning: is_categorical_dtype is deprecated and will be removed in a future version. Use isinstance(dtype, CategoricalDtype) instead\n",
      "  if pd.api.types.is_categorical_dtype(vector):\n",
      "C:\\Users\\Admin\\AppData\\Local\\Programs\\Python\\Python311\\Lib\\site-packages\\seaborn\\_oldcore.py:1498: FutureWarning: is_categorical_dtype is deprecated and will be removed in a future version. Use isinstance(dtype, CategoricalDtype) instead\n",
      "  if pd.api.types.is_categorical_dtype(vector):\n",
      "C:\\Users\\Admin\\AppData\\Local\\Programs\\Python\\Python311\\Lib\\site-packages\\seaborn\\_oldcore.py:1498: FutureWarning: is_categorical_dtype is deprecated and will be removed in a future version. Use isinstance(dtype, CategoricalDtype) instead\n",
      "  if pd.api.types.is_categorical_dtype(vector):\n"
     ]
    },
    {
     "data": {
      "image/png": "[encoded data removed]",
      "text/plain": [
       "<Figure size 640x480 with 1 Axes>"
      ]
     },
     "metadata": {},
     "output_type": "display_data"
    }
   ],
   "source": [
    "import matplotlib.pyplot as plt\n",
    "import seaborn as sns\n",
    "sns.barplot(y=\"rating\",x=\"time1\",data=data,hue='rating',palette=\"viridis\")\n",
    "plt.xlabel(\"time\")\n",
    "plt.ylabel(\"rating\")\n",
    "plt.title(\"barchart based on rating and time\")\n",
    "\n",
    "plt.xticks(ticks=plt.xticks()[0], labels=[\"10pm\",\"11pm\",\"12pm\",\"14pm\",\"15pm\",\"16pm\",\"17pm\",\"18pm\"])\n",
    "\n",
    "# Show plot\n",
    "plt.show()"
   ]
  },
  {
   "cell_type": "code",
   "execution_count": 29,
   "id": "e44dd210-4250-4c17-bb3d-437d9a4ce665",
   "metadata": {},
   "outputs": [
    {
     "data": {
      "text/plain": [
       "100000"
      ]
     },
     "execution_count": 29,
     "metadata": {},
     "output_type": "execute_result"
    }
   ],
   "source": [
    "data[\"priority\"].count()"
   ]
  },
  {
   "cell_type": "code",
   "execution_count": 30,
   "id": "4e579f56-9084-462a-a28c-67468ad1bbae",
   "metadata": {},
   "outputs": [
    {
     "name": "stdout",
     "output_type": "stream",
     "text": [
      "X_train shape: (70000, 3)\n",
      "y_train shape: (70000,)\n",
      "X_test shape: (30000, 3)\n",
      "y_test shape: (30000,)\n"
     ]
    }
   ],
   "source": [
    "# prompt: import train test split\n",
    "\n",
    "from sklearn.model_selection import train_test_split\n",
    "\n",
    "# Separate features and target\n",
    "X = data[['time1', 'type', 'priority']]  # Replace with your actual feature names\n",
    "y = data['rating']  # Replace with your actual target variable name\n",
    "\n",
    "# Split data into train and test sets\n",
    "X_train, X_test, y_train, y_test = train_test_split(X, y, test_size=0.3, random_state=67)\n",
    "\n",
    "# Print the shapes of the train and test sets\n",
    "print(\"X_train shape:\", X_train.shape)\n",
    "print(\"y_train shape:\", y_train.shape)\n",
    "print(\"X_test shape:\", X_test.shape)\n",
    "print(\"y_test shape:\", y_test.shape)\n"
   ]
  },
  {
   "cell_type": "code",
   "execution_count": 31,
   "id": "5de4bb83-e218-47fc-be3f-7bb5e777c809",
   "metadata": {},
   "outputs": [
    {
     "name": "stdout",
     "output_type": "stream",
     "text": [
      "Accuracy: 0.6371666666666667\n",
      "Confusion Matrix:\n",
      "[[    0     0    66]\n",
      " [    0     0 10819]\n",
      " [    0     0 19115]]\n",
      "Classification Report:\n",
      "              precision    recall  f1-score   support\n",
      "\n",
      "           0       0.00      0.00      0.00        66\n",
      "           1       0.00      0.00      0.00     10819\n",
      "           2       0.64      1.00      0.78     19115\n",
      "\n",
      "    accuracy                           0.64     30000\n",
      "   macro avg       0.21      0.33      0.26     30000\n",
      "weighted avg       0.41      0.64      0.50     30000\n",
      "\n"
     ]
    },
    {
     "name": "stderr",
     "output_type": "stream",
     "text": [
      "C:\\Users\\Admin\\AppData\\Local\\Programs\\Python\\Python311\\Lib\\site-packages\\sklearn\\metrics\\_classification.py:1469: UndefinedMetricWarning: Precision and F-score are ill-defined and being set to 0.0 in labels with no predicted samples. Use `zero_division` parameter to control this behavior.\n",
      "  _warn_prf(average, modifier, msg_start, len(result))\n",
      "C:\\Users\\Admin\\AppData\\Local\\Programs\\Python\\Python311\\Lib\\site-packages\\sklearn\\metrics\\_classification.py:1469: UndefinedMetricWarning: Precision and F-score are ill-defined and being set to 0.0 in labels with no predicted samples. Use `zero_division` parameter to control this behavior.\n",
      "  _warn_prf(average, modifier, msg_start, len(result))\n",
      "C:\\Users\\Admin\\AppData\\Local\\Programs\\Python\\Python311\\Lib\\site-packages\\sklearn\\metrics\\_classification.py:1469: UndefinedMetricWarning: Precision and F-score are ill-defined and being set to 0.0 in labels with no predicted samples. Use `zero_division` parameter to control this behavior.\n",
      "  _warn_prf(average, modifier, msg_start, len(result))\n"
     ]
    }
   ],
   "source": [
    "# prompt: apply random forest classifier\n",
    "\n",
    "# Import RandomForestClassifier\n",
    "from sklearn.ensemble import RandomForestClassifier\n",
    "\n",
    "# Instantiate the RandomForestClassifier\n",
    "rfc = RandomForestClassifier(n_estimators=60,criterion='entropy',random_state=42)\n",
    "\n",
    "# Fit the model on the training data\n",
    "rfc.fit(X_train, y_train)\n",
    "\n",
    "# Make predictions on the test data\n",
    "predictions = rfc.predict(X_test)\n",
    "\n",
    "# Evaluate the model's performance\n",
    "from sklearn.metrics import accuracy_score\n",
    "accuracy = accuracy_score(y_test, predictions)\n",
    "print(\"Accuracy:\", accuracy)\n",
    "\n",
    "# Print the confusion matrix\n",
    "from sklearn.metrics import confusion_matrix\n",
    "print(\"Confusion Matrix:\")\n",
    "print(confusion_matrix(y_test, predictions))\n",
    "\n",
    "# Print the classification report\n",
    "from sklearn.metrics import classification_report\n",
    "print(\"Classification Report:\")\n",
    "print(classification_report(y_test, predictions))\n"
   ]
  },
  {
   "cell_type": "code",
   "execution_count": 32,
   "id": "c5b2f4f5-9150-4ea0-9b08-fafe599d2b30",
   "metadata": {},
   "outputs": [
    {
     "data": {
      "image/png": "[encoded data removed]",
      "text/plain": [
       "<Figure size 800x600 with 1 Axes>"
      ]
     },
     "metadata": {},
     "output_type": "display_data"
    }
   ],
   "source": [
    "conf=confusion_matrix(y_test, predictions)\n",
    "import seaborn as sns\n",
    "import matplotlib.pyplot as plt\n",
    "plt.figure(figsize=(8, 6))\n",
    "sns.heatmap(conf, annot=True, cmap='Blues', fmt='g', cbar=False)\n",
    "plt.xlabel('Predicted labels')\n",
    "plt.ylabel('True labels')\n",
    "plt.title('Confusion Matrix')\n",
    "plt.show()"
   ]
  },
  {
   "cell_type": "code",
   "execution_count": null,
   "id": "22d6de69-5d18-4ab7-8012-a352e96d363d",
   "metadata": {},
   "outputs": [],
   "source": []
  },
  {
   "cell_type": "code",
   "execution_count": 33,
   "id": "e8b0b761-ea26-44d3-8253-a1095894b822",
   "metadata": {},
   "outputs": [
    {
     "data": {
      "text/plain": [
       "name           246\n",
       "type           246\n",
       "description    246\n",
       "priority       246\n",
       "Unnamed: 4     246\n",
       "Unnamed: 5     246\n",
       "Unnamed: 6     246\n",
       "time           246\n",
       "Unnamed: 8     246\n",
       "yesno          246\n",
       "rating         246\n",
       "time1          246\n",
       "dtype: int64"
      ]
     },
     "execution_count": 33,
     "metadata": {},
     "output_type": "execute_result"
    }
   ],
   "source": [
    "data[data['rating']==0].count()"
   ]
  },
  {
   "cell_type": "code",
   "execution_count": 34,
   "id": "b2206063-8692-4d02-8c09-2b6bb7ea5688",
   "metadata": {},
   "outputs": [
    {
     "ename": "SyntaxError",
     "evalue": "incomplete input (314350831.py, line 1)",
     "output_type": "error",
     "traceback": [
      "\u001b[1;36m  Cell \u001b[1;32mIn[34], line 1\u001b[1;36m\u001b[0m\n\u001b[1;33m    '''from sklearn.naive_bayes import GaussianNB\u001b[0m\n\u001b[1;37m    ^\u001b[0m\n\u001b[1;31mSyntaxError\u001b[0m\u001b[1;31m:\u001b[0m incomplete input\n"
     ]
    }
   ],
   "source": [
    "'''from sklearn.naive_bayes import GaussianNB\n",
    "from sklearn.metrics import accuracy_score, classification_report, confusion_matrix\n",
    "\n",
    "# Instantiate Gaussian Naive Bayes classifier\n",
    "nb_classifier = GaussianNB()\n",
    "\n",
    "# Train the classifier\n",
    "nb_classifier.fit(X_train, y_train)\n",
    "\n",
    "# Make predictions\n",
    "y_pred = nb_classifier.predict(X_test)\n",
    "\n",
    "# Evaluate the model\n",
    "accuracy = accuracy_score(y_test, y_pred)\n",
    "print(\"Accuracy:\", accuracy)\n",
    "\n",
    "# Print classification report\n",
    "print(classification_report(y_test, y_pred))\n",
    "\n",
    "# Print confusion matrix\n",
    "print(\"Confusion Matrix:\")\n",
    "print(confusion_matrix(y_test, y_pred))\n"
   ]
  },
  {
   "cell_type": "code",
   "execution_count": 36,
   "id": "13fa07df-fe76-47c4-a415-af5131545b0a",
   "metadata": {},
   "outputs": [
    {
     "name": "stdout",
     "output_type": "stream",
     "text": [
      "Accuracy: 0.5367\n",
      "              precision    recall  f1-score   support\n",
      "\n",
      "           0       0.00      0.00      0.00        66\n",
      "           1       0.35      0.34      0.34     10819\n",
      "           2       0.63      0.65      0.64     19115\n",
      "\n",
      "    accuracy                           0.54     30000\n",
      "   macro avg       0.33      0.33      0.33     30000\n",
      "weighted avg       0.53      0.54      0.53     30000\n",
      "\n",
      "Confusion Matrix:\n",
      "[[    0    24    42]\n",
      " [    0  3631  7188]\n",
      " [    0  6645 12470]]\n"
     ]
    },
    {
     "name": "stderr",
     "output_type": "stream",
     "text": [
      "C:\\Users\\Admin\\AppData\\Local\\Programs\\Python\\Python311\\Lib\\site-packages\\sklearn\\metrics\\_classification.py:1469: UndefinedMetricWarning: Precision and F-score are ill-defined and being set to 0.0 in labels with no predicted samples. Use `zero_division` parameter to control this behavior.\n",
      "  _warn_prf(average, modifier, msg_start, len(result))\n",
      "C:\\Users\\Admin\\AppData\\Local\\Programs\\Python\\Python311\\Lib\\site-packages\\sklearn\\metrics\\_classification.py:1469: UndefinedMetricWarning: Precision and F-score are ill-defined and being set to 0.0 in labels with no predicted samples. Use `zero_division` parameter to control this behavior.\n",
      "  _warn_prf(average, modifier, msg_start, len(result))\n",
      "C:\\Users\\Admin\\AppData\\Local\\Programs\\Python\\Python311\\Lib\\site-packages\\sklearn\\metrics\\_classification.py:1469: UndefinedMetricWarning: Precision and F-score are ill-defined and being set to 0.0 in labels with no predicted samples. Use `zero_division` parameter to control this behavior.\n",
      "  _warn_prf(average, modifier, msg_start, len(result))\n"
     ]
    }
   ],
   "source": [
    "from sklearn.neighbors import KNeighborsClassifier\n",
    "from sklearn.metrics import accuracy_score, classification_report, confusion_matrix\n",
    "\n",
    "# Instantiate KNN classifier\n",
    "knn_classifier = KNeighborsClassifier()\n",
    "\n",
    "# Train the classifier\n",
    "knn_classifier.fit(X_train, y_train)\n",
    "\n",
    "# Make predictions\n",
    "y_pred = knn_classifier.predict(X_test)\n",
    "\n",
    "# Evaluate the model\n",
    "accuracy = accuracy_score(y_test, y_pred)\n",
    "print(\"Accuracy:\", accuracy)\n",
    "\n",
    "# Print classification report\n",
    "print(classification_report(y_test, y_pred))\n",
    "\n",
    "# Print confusion matrix\n",
    "print(\"Confusion Matrix:\")\n",
    "print(confusion_matrix(y_test, y_pred))\n"
   ]
  },
  {
   "cell_type": "code",
   "execution_count": null,
   "id": "277bfac3-657e-4ee9-8f4e-7b6f7087d723",
   "metadata": {},
   "outputs": [],
   "source": []
  },
  {
   "cell_type": "code",
   "execution_count": 37,
   "id": "74e2a8f5-d985-4165-8961-0ba1d211c3b2",
   "metadata": {},
   "outputs": [
    {
     "data": {
      "text/plain": [
       "array([1, 2, 2, ..., 1, 0, 2], dtype=int64)"
      ]
     },
     "execution_count": 37,
     "metadata": {},
     "output_type": "execute_result"
    }
   ],
   "source": [
    "import numpy as np\n",
    "np.array(data[\"priority\"])"
   ]
  },
  {
   "cell_type": "code",
   "execution_count": 38,
   "id": "0719f38c-d448-483a-a3db-e84f1922d356",
   "metadata": {},
   "outputs": [
    {
     "data": {
      "text/plain": [
       "(100000, 12)"
      ]
     },
     "execution_count": 38,
     "metadata": {},
     "output_type": "execute_result"
    }
   ],
   "source": [
    "data.shape"
   ]
  },
  {
   "cell_type": "code",
   "execution_count": 39,
   "id": "5979fdc8-631e-48de-a717-ab83cd5547be",
   "metadata": {},
   "outputs": [
    {
     "ename": "SyntaxError",
     "evalue": "unterminated triple-quoted string literal (detected at line 45) (2266636407.py, line 12)",
     "output_type": "error",
     "traceback": [
      "\u001b[1;36m  Cell \u001b[1;32mIn[39], line 12\u001b[1;36m\u001b[0m\n\u001b[1;33m    x3=np.array(data['time1'])'''\u001b[0m\n\u001b[1;37m                              ^\u001b[0m\n\u001b[1;31mSyntaxError\u001b[0m\u001b[1;31m:\u001b[0m unterminated triple-quoted string literal (detected at line 45)\n"
     ]
    }
   ],
   "source": [
    "'''import numpy as np\n",
    "import tensorflow as tf\n",
    "from sklearn.model_selection import train_test_split\n",
    "from sklearn.preprocessing import MinMaxScaler\n",
    "from tensorflow.keras.models import Sequential\n",
    "from tensorflow.keras.layers import Dense\n",
    "\n",
    "# Assuming you have your dataset loaded into X (input features) and y (output labels)\n",
    "# Example dataset\n",
    "'''x1=np.array(data[\"priority\"])\n",
    "x2=np.array(data['type'])\n",
    "x3=np.array(data['time1'])'''\n",
    "\n",
    "    \n",
    "X = x4\n",
    "y = np.array(data['rating'])\n",
    "\n",
    "\n",
    "# Normalize your input features\n",
    "scaler = MinMaxScaler()\n",
    "X_normalized = scaler.fit_transform(X)\n",
    "\n",
    "# Split the dataset into training and testing sets\n",
    "X_train, X_test, y_train, y_test = train_test_split(X_normalized, y, test_size=0.2, random_state=42)\n",
    "\n",
    "# Define the neural network architecture with softmax activation for multi-class classification\n",
    "model = Sequential([\n",
    "    Dense(64, activation='relu', input_shape=(X_train.shape[1],)),\n",
    "    Dense(32, activation='relu'),\n",
    "    Dense(3, activation='softmax')  # Output layer with softmax activation for multi-class classification\n",
    "])\n",
    "\n",
    "# Compile the model\n",
    "model.compile(optimizer='adam', loss='sparse_categorical_crossentropy', metrics=['accuracy'])\n",
    "\n",
    "# Train the model\n",
    "model.fit(X_train, y_train, epochs=50, batch_size=1, verbose=1)\n",
    "\n",
    "# Evaluate the model\n",
    "loss, accuracy = model.evaluate(X_test, y_test)\n",
    "print(\"Loss on test data:\", loss)\n",
    "print(\"Accuracy on test data:\", accuracy)\n",
    "\n",
    "# Make predictions\n",
    "predictions = model.predict(X_test)\n"
   ]
  },
  {
   "cell_type": "code",
   "execution_count": 40,
   "id": "ca2c4798-93d2-4a88-a042-1c434b16f482",
   "metadata": {},
   "outputs": [],
   "source": [
    "import numpy as np\n",
    "import tensorflow as tf\n",
    "from sklearn.model_selection import train_test_split\n",
    "from sklearn.preprocessing import MinMaxScaler\n",
    "from tensorflow.keras.models import Sequential\n",
    "from tensorflow.keras.layers import Dense\n",
    "\n",
    "# Assuming you have your dataset loaded into X (input features) and y (output labels)\n",
    "# Example dataset\n",
    "x1=np.array(data[\"priority\"])\n",
    "x2=np.array(data['type'])\n",
    "x3=np.array(data['time1'])\n",
    "\n"
   ]
  },
  {
   "cell_type": "code",
   "execution_count": null,
   "id": "2fe2ed0d-001a-45c8-82f6-0f40ff6d5800",
   "metadata": {},
   "outputs": [],
   "source": [
    "y"
   ]
  },
  {
   "cell_type": "code",
   "execution_count": null,
   "id": "25a46c1a-b385-4c69-ad72-8ca9b63f64c6",
   "metadata": {},
   "outputs": [],
   "source": [
    "'''x4 =[]\n",
    "for i in range(100):\n",
    "\n",
    "\n",
    "    x4.append([x1[i],x2[i],x3[i]])\n"
   ]
  },
  {
   "cell_type": "code",
   "execution_count": null,
   "id": "38856b48-786e-4ea5-8884-70f8f1129af5",
   "metadata": {},
   "outputs": [],
   "source": [
    "'''x4"
   ]
  },
  {
   "cell_type": "code",
   "execution_count": 41,
   "id": "ff2a7283-acdf-4b83-80d4-181f44370979",
   "metadata": {},
   "outputs": [
    {
     "data": {
      "image/png": "[encoded data removed]",
      "text/plain": [
       "<Figure size 640x480 with 1 Axes>"
      ]
     },
     "metadata": {},
     "output_type": "display_data"
    },
    {
     "name": "stderr",
     "output_type": "stream",
     "text": [
      "C:\\Users\\Admin\\AppData\\Local\\Temp\\ipykernel_4844\\1285324719.py:38: SettingWithCopyWarning: \n",
      "A value is trying to be set on a copy of a slice from a DataFrame.\n",
      "Try using .loc[row_indexer,col_indexer] = value instead\n",
      "\n",
      "See the caveats in the documentation: https://pandas.pydata.org/pandas-docs/stable/user_guide/indexing.html#returning-a-view-versus-a-copy\n",
      "  X['Cluster'] = clusters\n",
      "C:\\Users\\Admin\\AppData\\Local\\Programs\\Python\\Python311\\Lib\\site-packages\\seaborn\\_oldcore.py:1498: FutureWarning: is_categorical_dtype is deprecated and will be removed in a future version. Use isinstance(dtype, CategoricalDtype) instead\n",
      "  if pd.api.types.is_categorical_dtype(vector):\n",
      "C:\\Users\\Admin\\AppData\\Local\\Programs\\Python\\Python311\\Lib\\site-packages\\seaborn\\_oldcore.py:1498: FutureWarning: is_categorical_dtype is deprecated and will be removed in a future version. Use isinstance(dtype, CategoricalDtype) instead\n",
      "  if pd.api.types.is_categorical_dtype(vector):\n",
      "C:\\Users\\Admin\\AppData\\Local\\Programs\\Python\\Python311\\Lib\\site-packages\\seaborn\\_oldcore.py:1498: FutureWarning: is_categorical_dtype is deprecated and will be removed in a future version. Use isinstance(dtype, CategoricalDtype) instead\n",
      "  if pd.api.types.is_categorical_dtype(vector):\n"
     ]
    },
    {
     "data": {
      "image/png": "[encoded data removed]",
      "text/plain": [
       "<Figure size 640x480 with 1 Axes>"
      ]
     },
     "metadata": {},
     "output_type": "display_data"
    }
   ],
   "source": [
    "import pandas as pd\n",
    "from sklearn.cluster import KMeans\n",
    "from sklearn.preprocessing import StandardScaler\n",
    "import matplotlib.pyplot as plt\n",
    "\n",
    "\n",
    "from sklearn.decomposition import PCA\n",
    "\n",
    "\n",
    "\n",
    "X = data[['type' ,'priority','time1']]\n",
    "\n",
    "scaler = StandardScaler()\n",
    "X_scaled = scaler.fit_transform(X)\n",
    "\n",
    "\n",
    "wcss = []\n",
    "for i in range(1, 11):\n",
    "    kmeans = KMeans(n_clusters=i, init='k-means++', max_iter=300, n_init=10, random_state=0)\n",
    "    kmeans.fit(X_scaled)\n",
    "    wcss.append(kmeans.inertia_)\n",
    "\n",
    "\n",
    "plt.plot(range(1, 11), wcss)\n",
    "plt.title('Elbow Method')\n",
    "plt.xlabel('Number of Clusters')\n",
    "plt.ylabel('WCSS')  # Within-Cluster Sum of Squares\n",
    "plt.show()\n",
    "\n",
    "\n",
    "k = 3 #optimal elbow point\n",
    "\n",
    "\n",
    "kmeans = KMeans(n_clusters=k, init='k-means++', max_iter=300, n_init=10, random_state=0)\n",
    "clusters = kmeans.fit_predict(X_scaled)\n",
    "\n",
    "\n",
    "X['Cluster'] = clusters\n",
    "pca_num_components = 2\n",
    "\n",
    "reduced_data = PCA(n_components=pca_num_components).fit_transform(X)\n",
    "results = pd.DataFrame(reduced_data,columns=['pca1','pca2'])\n",
    "\n",
    "sns.scatterplot(x=\"pca1\", y=\"pca2\", hue=X['Cluster'], data=results)\n",
    "plt.title('K-means Clustering with 2 dimensions')\n",
    "plt.show()"
   ]
  },
  {
   "cell_type": "code",
   "execution_count": null,
   "id": "cb1ed6ef-6d71-4739-a344-4f2ab5f2860e",
   "metadata": {},
   "outputs": [],
   "source": [
    "import numpy as np\n",
    "data1 = X[X.Cluster==0]\n",
    "data2 = X[X.Cluster==1]\n",
    "data3 = X[X.Cluster==2]\n",
    "data4 = X[X.Cluster==2]\n",
    "kplot = plt.axes(projection='3d')\n",
    "xline = np.linspace(0, 15, 1000)\n",
    "yline = np.linspace(0, 15, 1000)\n",
    "zline = np.linspace(0, 15, 1000)\n",
    "kplot.plot3D(xline, yline, zline, 'black')\n",
    "# Data for three-dimensional scattered points\n",
    "kplot.scatter3D(data1.rating, data1.priority, data1.Efficiency, c='red', label = 'Cluster 1')\n",
    "kplot.scatter3D(data2.rating,data2.priority,data2.Efficiency,c ='green', label = 'Cluster 2')\n",
    "kplot.scatter3D(data3.rating,data3.priority,data3.Efficiency,c ='blue', label = 'Cluster 3')\n",
    "plt.scatter(kmeans.cluster_centers_[:,0], kmeans.cluster_centers_[:,1], color = 'indigo', s = 200)\n",
    "plt.legend()\n",
    "plt.title(\"Kmeans\")\n",
    "plt.show()"
   ]
  },
  {
   "cell_type": "code",
   "execution_count": null,
   "id": "cf215a93-33d6-41b6-b32c-f2ca4661af7c",
   "metadata": {},
   "outputs": [],
   "source": []
  },
  {
   "cell_type": "code",
   "execution_count": null,
   "id": "ab5bc042-c80e-46dd-8140-bc9a2f5c45e9",
   "metadata": {},
   "outputs": [],
   "source": [
    "'''import numpy as np\n",
    "import matplotlib.pyplot as plt\n",
    "from sklearn.cluster import KMeans\n",
    "from sklearn.preprocessing import StandardScaler\n",
    "\n",
    "# Example dataset\n",
    "X = np.array([\n",
    "    [0, 2],  # Priority: 0, Time: 2\n",
    "    [1, 4],  # Priority: 1, Time: 4\n",
    "    [2, 6],  # Priority: 2, Time: 6\n",
    "    [0, 3],  # Priority: 0, Time: 3\n",
    "    [2, 7],  # Priority: 2, Time: 7\n",
    "    [1, 5]   # Priority: 1, Time: 5\n",
    "])\n",
    "\n",
    "# Scale the features\n",
    "scaler = StandardScaler()\n",
    "X_scaled = scaler.fit_transform(X)\n",
    "\n",
    "# Perform K-means clustering\n",
    "kmeans = KMeans(n_clusters=3, random_state=42)\n",
    "kmeans.fit(X_scaled)\n",
    "centroids = kmeans.cluster_centers_\n",
    "labels = kmeans.labels_\n",
    "\n",
    "# Visualize the clusters\n",
    "plt.scatter(X_scaled[:, 0], X_scaled[:, 1], c=labels, cmap='viridis')\n",
    "plt.scatter(centroids[:, 0], centroids[:, 1], marker='x', s=150, c='r')\n",
    "plt.xlabel('Priority (scaled)')\n",
    "plt.ylabel('Time (scaled)')\n",
    "plt.title('K-means Clustering')\n",
    "plt.show()\n"
   ]
  },
  {
   "cell_type": "code",
   "execution_count": 42,
   "id": "2f6365cd-8bbf-49b4-bd40-252d49df2d4b",
   "metadata": {},
   "outputs": [
    {
     "data": {
      "text/plain": [
       "array([3, 1, 2, 7, 5, 0, 4, 6])"
      ]
     },
     "execution_count": 42,
     "metadata": {},
     "output_type": "execute_result"
    }
   ],
   "source": [
    "data['time1'].unique()"
   ]
  },
  {
   "cell_type": "code",
   "execution_count": 43,
   "id": "060180ee-8f10-44e2-8bf7-588ae52fe580",
   "metadata": {},
   "outputs": [
    {
     "data": {
      "text/plain": [
       "array([2, 1, 0])"
      ]
     },
     "execution_count": 43,
     "metadata": {},
     "output_type": "execute_result"
    }
   ],
   "source": [
    "data['rating'].unique()"
   ]
  },
  {
   "cell_type": "code",
   "execution_count": 44,
   "id": "7ffeb56b-e1bb-45a6-abb5-b8f7cc45b534",
   "metadata": {},
   "outputs": [
    {
     "data": {
      "text/plain": [
       "(100000,)"
      ]
     },
     "execution_count": 44,
     "metadata": {},
     "output_type": "execute_result"
    }
   ],
   "source": [
    "data['priority'].shape"
   ]
  },
  {
   "cell_type": "code",
   "execution_count": 45,
   "id": "4e82ac3a-602b-4a36-bcb9-e27344e73046",
   "metadata": {},
   "outputs": [
    {
     "data": {
      "text/plain": [
       "(100000, 12)"
      ]
     },
     "execution_count": 45,
     "metadata": {},
     "output_type": "execute_result"
    }
   ],
   "source": [
    "data.shape"
   ]
  },
  {
   "cell_type": "code",
   "execution_count": 46,
   "id": "8e09cb1f-c5a6-4039-aaa7-a2d969fa7929",
   "metadata": {},
   "outputs": [
    {
     "data": {
      "text/html": [
       "<div>\n",
       "<style scoped>\n",
       "    .dataframe tbody tr th:only-of-type {\n",
       "        vertical-align: middle;\n",
       "    }\n",
       "\n",
       "    .dataframe tbody tr th {\n",
       "        vertical-align: top;\n",
       "    }\n",
       "\n",
       "    .dataframe thead th {\n",
       "        text-align: right;\n",
       "    }\n",
       "</style>\n",
       "<table border=\"1\" class=\"dataframe\">\n",
       "  <thead>\n",
       "    <tr style=\"text-align: right;\">\n",
       "      <th></th>\n",
       "      <th>name</th>\n",
       "      <th>type</th>\n",
       "      <th>description</th>\n",
       "      <th>priority</th>\n",
       "      <th>Unnamed: 4</th>\n",
       "      <th>Unnamed: 5</th>\n",
       "      <th>Unnamed: 6</th>\n",
       "      <th>time</th>\n",
       "      <th>Unnamed: 8</th>\n",
       "      <th>yesno</th>\n",
       "      <th>rating</th>\n",
       "      <th>time1</th>\n",
       "    </tr>\n",
       "  </thead>\n",
       "  <tbody>\n",
       "    <tr>\n",
       "      <th>10</th>\n",
       "      <td>Complete coding challenge</td>\n",
       "      <td>1</td>\n",
       "      <td>Network with peers</td>\n",
       "      <td>0</td>\n",
       "      <td>239</td>\n",
       "      <td>309</td>\n",
       "      <td>83</td>\n",
       "      <td>4/2/2023 10:00</td>\n",
       "      <td>250</td>\n",
       "      <td>Over</td>\n",
       "      <td>2</td>\n",
       "      <td>0</td>\n",
       "    </tr>\n",
       "    <tr>\n",
       "      <th>14</th>\n",
       "      <td>Learning new technology</td>\n",
       "      <td>1</td>\n",
       "      <td>Code collaboratively</td>\n",
       "      <td>0</td>\n",
       "      <td>123</td>\n",
       "      <td>84</td>\n",
       "      <td>63</td>\n",
       "      <td>4/2/2023 10:00</td>\n",
       "      <td>130</td>\n",
       "      <td>Under</td>\n",
       "      <td>1</td>\n",
       "      <td>0</td>\n",
       "    </tr>\n",
       "    <tr>\n",
       "      <th>19</th>\n",
       "      <td>Attending training session</td>\n",
       "      <td>0</td>\n",
       "      <td>Network with peers</td>\n",
       "      <td>0</td>\n",
       "      <td>67</td>\n",
       "      <td>82</td>\n",
       "      <td>64</td>\n",
       "      <td>4/2/2023 10:00</td>\n",
       "      <td>55</td>\n",
       "      <td>Over</td>\n",
       "      <td>1</td>\n",
       "      <td>0</td>\n",
       "    </tr>\n",
       "    <tr>\n",
       "      <th>26</th>\n",
       "      <td>Pair programming</td>\n",
       "      <td>1</td>\n",
       "      <td>Refactor existing code</td>\n",
       "      <td>0</td>\n",
       "      <td>200</td>\n",
       "      <td>190</td>\n",
       "      <td>99</td>\n",
       "      <td>3/28/2023 10:00</td>\n",
       "      <td>110</td>\n",
       "      <td>Under</td>\n",
       "      <td>2</td>\n",
       "      <td>0</td>\n",
       "    </tr>\n",
       "    <tr>\n",
       "      <th>30</th>\n",
       "      <td>Sprint planning</td>\n",
       "      <td>0</td>\n",
       "      <td>Write technical document</td>\n",
       "      <td>0</td>\n",
       "      <td>49</td>\n",
       "      <td>59</td>\n",
       "      <td>81</td>\n",
       "      <td>3/28/2023 10:00</td>\n",
       "      <td>190</td>\n",
       "      <td>Over</td>\n",
       "      <td>2</td>\n",
       "      <td>0</td>\n",
       "    </tr>\n",
       "    <tr>\n",
       "      <th>...</th>\n",
       "      <td>...</td>\n",
       "      <td>...</td>\n",
       "      <td>...</td>\n",
       "      <td>...</td>\n",
       "      <td>...</td>\n",
       "      <td>...</td>\n",
       "      <td>...</td>\n",
       "      <td>...</td>\n",
       "      <td>...</td>\n",
       "      <td>...</td>\n",
       "      <td>...</td>\n",
       "      <td>...</td>\n",
       "    </tr>\n",
       "    <tr>\n",
       "      <th>99983</th>\n",
       "      <td>Writing technical documentation</td>\n",
       "      <td>1</td>\n",
       "      <td>Refactor existing code</td>\n",
       "      <td>2</td>\n",
       "      <td>35</td>\n",
       "      <td>34</td>\n",
       "      <td>94</td>\n",
       "      <td>4/2/2023 10:00</td>\n",
       "      <td>110</td>\n",
       "      <td>Under</td>\n",
       "      <td>2</td>\n",
       "      <td>0</td>\n",
       "    </tr>\n",
       "    <tr>\n",
       "      <th>99985</th>\n",
       "      <td>Writing technical documentation</td>\n",
       "      <td>1</td>\n",
       "      <td>Network with peers</td>\n",
       "      <td>0</td>\n",
       "      <td>140</td>\n",
       "      <td>107</td>\n",
       "      <td>62</td>\n",
       "      <td>4/2/2023 10:00</td>\n",
       "      <td>130</td>\n",
       "      <td>Under</td>\n",
       "      <td>1</td>\n",
       "      <td>0</td>\n",
       "    </tr>\n",
       "    <tr>\n",
       "      <th>99987</th>\n",
       "      <td>Code review</td>\n",
       "      <td>1</td>\n",
       "      <td>Review code changes</td>\n",
       "      <td>1</td>\n",
       "      <td>45</td>\n",
       "      <td>29</td>\n",
       "      <td>82</td>\n",
       "      <td>3/28/2023 10:00</td>\n",
       "      <td>130</td>\n",
       "      <td>Under</td>\n",
       "      <td>2</td>\n",
       "      <td>0</td>\n",
       "    </tr>\n",
       "    <tr>\n",
       "      <th>99992</th>\n",
       "      <td>Sprint planning</td>\n",
       "      <td>1</td>\n",
       "      <td>Discuss project progress</td>\n",
       "      <td>1</td>\n",
       "      <td>152</td>\n",
       "      <td>220</td>\n",
       "      <td>72</td>\n",
       "      <td>3/28/2023 10:00</td>\n",
       "      <td>220</td>\n",
       "      <td>Over</td>\n",
       "      <td>1</td>\n",
       "      <td>0</td>\n",
       "    </tr>\n",
       "    <tr>\n",
       "      <th>99995</th>\n",
       "      <td>Attend team meeting</td>\n",
       "      <td>1</td>\n",
       "      <td>Submit a functioning solution</td>\n",
       "      <td>0</td>\n",
       "      <td>211</td>\n",
       "      <td>216</td>\n",
       "      <td>96</td>\n",
       "      <td>3/28/2023 10:00</td>\n",
       "      <td>210</td>\n",
       "      <td>Over</td>\n",
       "      <td>2</td>\n",
       "      <td>0</td>\n",
       "    </tr>\n",
       "  </tbody>\n",
       "</table>\n",
       "<p>18088 rows × 12 columns</p>\n",
       "</div>"
      ],
      "text/plain": [
       "                                  name  type                    description  \\\n",
       "10           Complete coding challenge     1             Network with peers   \n",
       "14             Learning new technology     1           Code collaboratively   \n",
       "19          Attending training session     0             Network with peers   \n",
       "26                    Pair programming     1         Refactor existing code   \n",
       "30                     Sprint planning     0       Write technical document   \n",
       "...                                ...   ...                            ...   \n",
       "99983  Writing technical documentation     1         Refactor existing code   \n",
       "99985  Writing technical documentation     1             Network with peers   \n",
       "99987                      Code review     1            Review code changes   \n",
       "99992                  Sprint planning     1       Discuss project progress   \n",
       "99995              Attend team meeting     1  Submit a functioning solution   \n",
       "\n",
       "       priority  Unnamed: 4  Unnamed: 5 Unnamed: 6             time  \\\n",
       "10            0         239         309         83   4/2/2023 10:00   \n",
       "14            0         123          84         63   4/2/2023 10:00   \n",
       "19            0          67          82         64   4/2/2023 10:00   \n",
       "26            0         200         190         99  3/28/2023 10:00   \n",
       "30            0          49          59         81  3/28/2023 10:00   \n",
       "...         ...         ...         ...        ...              ...   \n",
       "99983         2          35          34         94   4/2/2023 10:00   \n",
       "99985         0         140         107         62   4/2/2023 10:00   \n",
       "99987         1          45          29         82  3/28/2023 10:00   \n",
       "99992         1         152         220         72  3/28/2023 10:00   \n",
       "99995         0         211         216         96  3/28/2023 10:00   \n",
       "\n",
       "       Unnamed: 8  yesno  rating  time1  \n",
       "10            250   Over       2      0  \n",
       "14            130  Under       1      0  \n",
       "19             55   Over       1      0  \n",
       "26            110  Under       2      0  \n",
       "30            190   Over       2      0  \n",
       "...           ...    ...     ...    ...  \n",
       "99983         110  Under       2      0  \n",
       "99985         130  Under       1      0  \n",
       "99987         130  Under       2      0  \n",
       "99992         220   Over       1      0  \n",
       "99995         210   Over       2      0  \n",
       "\n",
       "[18088 rows x 12 columns]"
      ]
     },
     "execution_count": 46,
     "metadata": {},
     "output_type": "execute_result"
    }
   ],
   "source": [
    "data[data[\"time1\"]==0]"
   ]
  },
  {
   "cell_type": "code",
   "execution_count": 47,
   "id": "798b4a2a-ca2f-4181-9075-44e7975f1650",
   "metadata": {},
   "outputs": [
    {
     "data": {
      "text/html": [
       "<div>\n",
       "<style scoped>\n",
       "    .dataframe tbody tr th:only-of-type {\n",
       "        vertical-align: middle;\n",
       "    }\n",
       "\n",
       "    .dataframe tbody tr th {\n",
       "        vertical-align: top;\n",
       "    }\n",
       "\n",
       "    .dataframe thead th {\n",
       "        text-align: right;\n",
       "    }\n",
       "</style>\n",
       "<table border=\"1\" class=\"dataframe\">\n",
       "  <thead>\n",
       "    <tr style=\"text-align: right;\">\n",
       "      <th></th>\n",
       "      <th>name</th>\n",
       "      <th>type</th>\n",
       "      <th>description</th>\n",
       "      <th>priority</th>\n",
       "      <th>Unnamed: 4</th>\n",
       "      <th>Unnamed: 5</th>\n",
       "      <th>Unnamed: 6</th>\n",
       "      <th>time</th>\n",
       "      <th>Unnamed: 8</th>\n",
       "      <th>yesno</th>\n",
       "      <th>rating</th>\n",
       "      <th>time1</th>\n",
       "    </tr>\n",
       "  </thead>\n",
       "  <tbody>\n",
       "    <tr>\n",
       "      <th>0</th>\n",
       "      <td>Complete coding challenge</td>\n",
       "      <td>0</td>\n",
       "      <td>Submit a functioning solution</td>\n",
       "      <td>1</td>\n",
       "      <td>215</td>\n",
       "      <td>186</td>\n",
       "      <td>99</td>\n",
       "      <td>3/28/2023 14:00</td>\n",
       "      <td>110</td>\n",
       "      <td>Under</td>\n",
       "      <td>2</td>\n",
       "      <td>3</td>\n",
       "    </tr>\n",
       "    <tr>\n",
       "      <th>1</th>\n",
       "      <td>Code refactoring</td>\n",
       "      <td>0</td>\n",
       "      <td>Submit a functioning solution</td>\n",
       "      <td>2</td>\n",
       "      <td>122</td>\n",
       "      <td>136</td>\n",
       "      <td>76</td>\n",
       "      <td>3/28/2023 14:00</td>\n",
       "      <td>420</td>\n",
       "      <td>Over</td>\n",
       "      <td>2</td>\n",
       "      <td>3</td>\n",
       "    </tr>\n",
       "    <tr>\n",
       "      <th>2</th>\n",
       "      <td>Attending conference</td>\n",
       "      <td>0</td>\n",
       "      <td>Fix errors in code</td>\n",
       "      <td>2</td>\n",
       "      <td>94</td>\n",
       "      <td>81</td>\n",
       "      <td>78</td>\n",
       "      <td>4/4/2023 11:00</td>\n",
       "      <td>220</td>\n",
       "      <td>Under</td>\n",
       "      <td>2</td>\n",
       "      <td>1</td>\n",
       "    </tr>\n",
       "    <tr>\n",
       "      <th>3</th>\n",
       "      <td>Learning new technology</td>\n",
       "      <td>1</td>\n",
       "      <td>Discuss project progress</td>\n",
       "      <td>0</td>\n",
       "      <td>240</td>\n",
       "      <td>329</td>\n",
       "      <td>99</td>\n",
       "      <td>4/1/2023 12:00</td>\n",
       "      <td>130</td>\n",
       "      <td>Over</td>\n",
       "      <td>2</td>\n",
       "      <td>2</td>\n",
       "    </tr>\n",
       "    <tr>\n",
       "      <th>4</th>\n",
       "      <td>Attending conference</td>\n",
       "      <td>0</td>\n",
       "      <td>Discuss project progress</td>\n",
       "      <td>2</td>\n",
       "      <td>205</td>\n",
       "      <td>137</td>\n",
       "      <td>76</td>\n",
       "      <td>4/5/2023 18:00</td>\n",
       "      <td>250</td>\n",
       "      <td>Under</td>\n",
       "      <td>2</td>\n",
       "      <td>7</td>\n",
       "    </tr>\n",
       "    <tr>\n",
       "      <th>5</th>\n",
       "      <td>Writing technical documentation</td>\n",
       "      <td>0</td>\n",
       "      <td>Refactor existing code</td>\n",
       "      <td>2</td>\n",
       "      <td>90</td>\n",
       "      <td>47</td>\n",
       "      <td>65</td>\n",
       "      <td>4/4/2023 11:00</td>\n",
       "      <td>55</td>\n",
       "      <td>Under</td>\n",
       "      <td>1</td>\n",
       "      <td>1</td>\n",
       "    </tr>\n",
       "    <tr>\n",
       "      <th>6</th>\n",
       "      <td>Learning new technology</td>\n",
       "      <td>0</td>\n",
       "      <td>Discuss project progress</td>\n",
       "      <td>1</td>\n",
       "      <td>92</td>\n",
       "      <td>118</td>\n",
       "      <td>95</td>\n",
       "      <td>3/30/2023 14:00</td>\n",
       "      <td>190</td>\n",
       "      <td>Over</td>\n",
       "      <td>2</td>\n",
       "      <td>3</td>\n",
       "    </tr>\n",
       "    <tr>\n",
       "      <th>7</th>\n",
       "      <td>Code refactoring</td>\n",
       "      <td>0</td>\n",
       "      <td>Write technical document</td>\n",
       "      <td>1</td>\n",
       "      <td>143</td>\n",
       "      <td>178</td>\n",
       "      <td>79</td>\n",
       "      <td>4/4/2023 11:00</td>\n",
       "      <td>250</td>\n",
       "      <td>Over</td>\n",
       "      <td>2</td>\n",
       "      <td>1</td>\n",
       "    </tr>\n",
       "    <tr>\n",
       "      <th>8</th>\n",
       "      <td>Code refactoring</td>\n",
       "      <td>1</td>\n",
       "      <td>Discuss project progress</td>\n",
       "      <td>1</td>\n",
       "      <td>89</td>\n",
       "      <td>88</td>\n",
       "      <td>86</td>\n",
       "      <td>3/30/2023 14:00</td>\n",
       "      <td>250</td>\n",
       "      <td>Under</td>\n",
       "      <td>2</td>\n",
       "      <td>3</td>\n",
       "    </tr>\n",
       "    <tr>\n",
       "      <th>9</th>\n",
       "      <td>Writing technical documentation</td>\n",
       "      <td>0</td>\n",
       "      <td>Network with peers</td>\n",
       "      <td>2</td>\n",
       "      <td>176</td>\n",
       "      <td>259</td>\n",
       "      <td>67</td>\n",
       "      <td>3/31/2023 16:00</td>\n",
       "      <td>130</td>\n",
       "      <td>Over</td>\n",
       "      <td>1</td>\n",
       "      <td>5</td>\n",
       "    </tr>\n",
       "  </tbody>\n",
       "</table>\n",
       "</div>"
      ],
      "text/plain": [
       "                              name  type                    description  \\\n",
       "0        Complete coding challenge     0  Submit a functioning solution   \n",
       "1                 Code refactoring     0  Submit a functioning solution   \n",
       "2             Attending conference     0             Fix errors in code   \n",
       "3          Learning new technology     1       Discuss project progress   \n",
       "4             Attending conference     0       Discuss project progress   \n",
       "5  Writing technical documentation     0         Refactor existing code   \n",
       "6          Learning new technology     0       Discuss project progress   \n",
       "7                 Code refactoring     0       Write technical document   \n",
       "8                 Code refactoring     1       Discuss project progress   \n",
       "9  Writing technical documentation     0             Network with peers   \n",
       "\n",
       "   priority  Unnamed: 4  Unnamed: 5 Unnamed: 6             time  Unnamed: 8  \\\n",
       "0         1         215         186         99  3/28/2023 14:00         110   \n",
       "1         2         122         136         76  3/28/2023 14:00         420   \n",
       "2         2          94          81         78   4/4/2023 11:00         220   \n",
       "3         0         240         329         99   4/1/2023 12:00         130   \n",
       "4         2         205         137         76   4/5/2023 18:00         250   \n",
       "5         2          90          47         65   4/4/2023 11:00          55   \n",
       "6         1          92         118         95  3/30/2023 14:00         190   \n",
       "7         1         143         178         79   4/4/2023 11:00         250   \n",
       "8         1          89          88         86  3/30/2023 14:00         250   \n",
       "9         2         176         259         67  3/31/2023 16:00         130   \n",
       "\n",
       "   yesno  rating  time1  \n",
       "0  Under       2      3  \n",
       "1   Over       2      3  \n",
       "2  Under       2      1  \n",
       "3   Over       2      2  \n",
       "4  Under       2      7  \n",
       "5  Under       1      1  \n",
       "6   Over       2      3  \n",
       "7   Over       2      1  \n",
       "8  Under       2      3  \n",
       "9   Over       1      5  "
      ]
     },
     "execution_count": 47,
     "metadata": {},
     "output_type": "execute_result"
    }
   ],
   "source": [
    "data.head(10)"
   ]
  },
  {
   "cell_type": "code",
   "execution_count": 113,
   "id": "b74f1192-b46a-4d97-8481-10acdd526383",
   "metadata": {},
   "outputs": [
    {
     "data": {
      "image/png": "[encoded data removed]",
      "text/plain": [
       "<Figure size 640x480 with 1 Axes>"
      ]
     },
     "metadata": {},
     "output_type": "display_data"
    }
   ],
   "source": [
    "\n",
    "#true code\n",
    "import tkinter as tk\n",
    "from tkinter import ttk\n",
    "import pandas as pd\n",
    "import matplotlib.pyplot as plt\n",
    "from matplotlib.backends.backend_tkagg import FigureCanvasTkAgg\n",
    "\n",
    "class ActivityTrackerApp:\n",
    "    def __init__(self, root):\n",
    "        self.root = root\n",
    "        self.root.title(\"Activity Tracker\")\n",
    "\n",
    "        self.df = pd.DataFrame(columns=['Priority', 'Time', 'Type'])\n",
    "        \n",
    "        self.create_widgets()\n",
    "    \n",
    "    def create_widgets(self):\n",
    "        # Label and Entry for Priority\n",
    "        ttk.Label(self.root, text=\"Priority:\").grid(row=0, column=0)\n",
    "        self.priority_entry = ttk.Entry(self.root)\n",
    "        self.priority_entry.grid(row=0, column=1)\n",
    "\n",
    "        # Label and Entry for Time\n",
    "        ttk.Label(self.root, text=\"Time:\").grid(row=1, column=0)\n",
    "        self.time_entry = ttk.Entry(self.root)\n",
    "        self.time_entry.grid(row=1, column=1)\n",
    "\n",
    "        # Label and Entry for Type\n",
    "        ttk.Label(self.root, text=\"Type:\").grid(row=2, column=0)\n",
    "        self.type_entry = ttk.Entry(self.root)\n",
    "        self.type_entry.grid(row=2, column=1)\n",
    "\n",
    "        # Label and Entry for Rating\n",
    "       \n",
    "\n",
    "        # Button to add activity\n",
    "        ttk.Button(self.root, text=\"Add Activity\", command=self.add_activity).grid(row=4, columnspan=2)\n",
    "\n",
    "        # Treeview to display activities\n",
    "        self.tree = ttk.Treeview(self.root, columns=['Priority', 'Time', 'Type'], show='headings')\n",
    "        self.tree.heading('Priority', text='Priority')\n",
    "        self.tree.heading('Time', text='Time')\n",
    "        self.tree.heading('Type', text='Type')\n",
    "      \n",
    "        self.tree.grid(row=5, columnspan=2)\n",
    "\n",
    "        # Button to show statistics\n",
    "        ttk.Button(self.root, text=\"Show Statistics\", command=self.show_statistics).grid(row=6, columnspan=2)\n",
    "\n",
    "    def add_activity(self):\n",
    "        priority = self.priority_entry.get()\n",
    "        time = self.time_entry.get()\n",
    "        activity_type = self.type_entry.get()\n",
    "     \n",
    "    \n",
    "        # Create a new DataFrame with the new row\n",
    "        new_row = pd.DataFrame([[priority, time, activity_type]], columns=self.df.columns)\n",
    "    \n",
    "        # Append the new DataFrame to the existing DataFrame\n",
    "        self.df = self.df._append(new_row, ignore_index=True)\n",
    "    \n",
    "        # Update the Treeview to reflect the changes\n",
    "        self.update_treeview()\n",
    "\n",
    "\n",
    "\n",
    "    def update_treeview(self):\n",
    "        self.tree.delete(*self.tree.get_children())\n",
    "        for index, row in self.df.iterrows():\n",
    "            self.tree.insert('', 'end', values=row.tolist())\n",
    "\n",
    "    def show_statistics(self):\n",
    "        # Simple bar plot for demonstration\n",
    "        plt.bar(['Work', 'Learning'], self.df['Type'].value_counts())\n",
    "        plt.xlabel('Type')\n",
    "        plt.ylabel('Count')\n",
    "        plt.title('Activity Type Distribution')\n",
    "        \n",
    "        # Embedding the plot in tkinter window\n",
    "        self.statistics_window = tk.Toplevel(self.root)\n",
    "        self.statistics_window.title(\"Statistics\")\n",
    "        self.statistics_canvas = FigureCanvasTkAgg(plt.gcf(), master=self.statistics_window)\n",
    "        self.statistics_canvas.draw()\n",
    "        self.statistics_canvas.get_tk_widget().pack(fill=tk.BOTH, expand=1)\n",
    "    \n",
    "\n",
    "if __name__ == \"__main__\":\n",
    "    root = tk.Tk()\n",
    "    app = ActivityTrackerApp(root)\n",
    "    root.mainloop()\n"
   ]
  },
  {
   "cell_type": "code",
   "execution_count": 112,
   "id": "bb45bd23-b765-448f-85c3-13c66ce7945e",
   "metadata": {},
   "outputs": [],
   "source": [
    "import tkinter as tk\n",
    "from tkinter import ttk\n",
    "\n",
    "class TodoListApp:\n",
    "  def __init__(self, root):\n",
    "    self.root = root\n",
    "    self.root.title(\"To-Do List\")\n",
    "    self.df = pd.DataFrame(columns=['Priority', 'Time', 'Type'])\n",
    "    self.tasks = []\n",
    "\n",
    "    self.create_widgets()\n",
    "\n",
    "  def create_widgets(self):\n",
    "    # Label and Entry for Task\n",
    "    ttk.Label(self.root, text=\"Task:\").grid(row=0, column=0)\n",
    "    self.task_entry = ttk.Entry(self.root)\n",
    "    self.task_entry.grid(row=0, column=1)\n",
    "\n",
    "    # Label and Entry for Priority\n",
    "    ttk.Label(self.root, text=\"Priority:\").grid(row=1, column=0)\n",
    "    self.priority_entry = ttk.Entry(self.root)\n",
    "    self.priority_entry.grid(row=1, column=1)\n",
    "\n",
    "    # Label and Entry for Time\n",
    "    ttk.Label(self.root, text=\"Time:\").grid(row=2, column=0)\n",
    "    self.time_entry = ttk.Entry(self.root)\n",
    "    self.time_entry.grid(row=2, column=1)\n",
    "\n",
    "    # Label and Entry for Type\n",
    "    ttk.Label(self.root, text=\"Type:\").grid(row=3, column=0)\n",
    "    self.type_entry = ttk.Entry(self.root)\n",
    "    self.type_entry.grid(row=3, column=1)\n",
    "\n",
    "    # Button to add task\n",
    "    ttk.Button(self.root, text=\"Add Task\", command=self.add_task).grid(row=4, columnspan=2)\n",
    "\n",
    "    # Treeview to display tasks\n",
    "    self.tree = ttk.Treeview(self.root, columns=['Task', 'Priority', 'Time', 'Type'], show='headings')\n",
    "    self.tree.heading('Task', text='Task')\n",
    "    self.tree.heading('Priority', text='Priority')\n",
    "    self.tree.heading('Time', text='Time')\n",
    "    self.tree.heading('Type', text='Type')\n",
    "    self.tree.grid(row=5, columnspan=2)\n",
    "\n",
    "    # Button to mark task as completed\n",
    "    ttk.Button(self.root, text=\"Mark Completed\", command=self.mark_completed).grid(row=6, column=0)\n",
    "\n",
    "    # Button to remove completed tasks\n",
    "    ttk.Button(self.root, text=\"Remove Completed\", command=self.remove_completed).grid(row=6, column=1)\n",
    "    ttk.Button(self.root, text=\"Show Statistics\", command=self.show_statistics).grid(row=6, columnspan=2)\n",
    "\n",
    "\n",
    "  def add_task(self):\n",
    "    task = self.task_entry.get()\n",
    "    priority = self.priority_entry.get()\n",
    "    time = self.time_entry.get()\n",
    "    task_type = self.type_entry.get()\n",
    "     \n",
    "    if task:\n",
    "      self.tasks.append((task, priority, time, task_type))\n",
    "      self.update_treeview()\n",
    "\n",
    "  def update_treeview(self):\n",
    "    self.tree.delete(*self.tree.get_children())\n",
    "    for task in self.tasks:\n",
    "      self.tree.insert('', 'end', values=task)\n",
    "  def mark_completed(self):\n",
    "      selected_items = self.tree.selection()\n",
    "      for item in selected_items:\n",
    "          task_id = self.tree.item(item, 'values')[0]  # Assuming task ID is the first value\n",
    "          if task_id in [task[0] for task in self.tasks]:\n",
    "                # Find index of task by ID\n",
    "              task_index = [i for i, task in enumerate(self.tasks) if task[0] == task_id][0]\n",
    "              del self.tasks[task_index]  # Remove task using index\n",
    "              self.tree.delete(item)  # Remove corresponding treeview item\n",
    "      self.update_treeview()\n",
    "\n",
    "  def remove_completed(self):\n",
    "    incomplete_tasks = [task for task in self.tasks if task[0] in [self.tree.item(child, 'values')[0] for child in self.tree.get_children()]]\n",
    "    self.tasks = incomplete_tasks\n",
    "    self.update_treeview()\n",
    "\n",
    "  def show_statistics(self):\n",
    "        # Simple bar plot for demonstration\n",
    "      plt.bar(['Work', 'Learning'], self.df['Type'].value_counts())\n",
    "      plt.xlabel('Type')\n",
    "      plt.ylabel('Count')\n",
    "      plt.title('Activity Type Distribution')\n",
    "        \n",
    "        # Embedding the plot in tkinter window\n",
    "      self.statistics_window = tk.Toplevel(self.root)\n",
    "      self.statistics_window.title(\"Statistics\")\n",
    "      self.statistics_canvas = FigureCanvasTkAgg(plt.gcf(), master=self.statistics_window)\n",
    "      self.statistics_canvas.draw()\n",
    "      self.statistics_canvas.get_tk_widget().pack(fill=tk.BOTH, expand=1)\n",
    "\n",
    "if __name__ == \"__main__\":\n",
    "  root = tk.Tk()\n",
    "  app = TodoListApp(root)\n",
    "  root.mainloop()\n"
   ]
  },
  {
   "cell_type": "code",
   "execution_count": null,
   "id": "c46f7219-91f9-41bb-ad18-50f893b94e95",
   "metadata": {},
   "outputs": [],
   "source": [
    "import tkinter as tk\n",
    "from tkinter import messagebox\n",
    "\n",
    "def show_hot_message():\n",
    "    messagebox.showinfo(\"Hot Weather Alert\", \"It's 3pm and its very hot! You need to hydrate yourself!\")\n",
    "\n",
    "root = tk.Tk()\n",
    "root.withdraw()  # Hide the root window\n",
    "\n",
    "# Call the function to display the message box\n",
    "show_hot_message()\n",
    "\n",
    "root.mainloop()\n"
   ]
  },
  {
   "cell_type": "code",
   "execution_count": null,
   "id": "5dae2187-1084-4d43-8ec5-8d6943022bef",
   "metadata": {},
   "outputs": [],
   "source": [
    "import numpy as np\n",
    "import matplotlib.pyplot as plt\n",
    "\n",
    "# Function to calculate total profit over time\n",
    "def calculate_profit(X, r, t):\n",
    "    return X * (1 + r)**t\n",
    "\n",
    "# Initial price of the product (X) in rupees\n",
    "X = 5000\n",
    "\n",
    "# Growth rate (r) and time interval (t)\n",
    "r = 0.032\n",
    "t_values = np.arange(0, 11)  # Time interval from 0 to 10 years\n",
    "\n",
    "# Calculate total profit for each time interval\n",
    "profits = [calculate_profit(X, r, t) for t in t_values]\n",
    "\n",
    "# Plot the graph\n",
    "plt.figure(figsize=(10, 6))\n",
    "plt.plot(t_values, profits, marker='o', linestyle='-')\n",
    "plt.title('Growth of Profit Over Time')\n",
    "plt.xlabel('Time (years)')\n",
    "plt.ylabel('Total Profit (rupees)')\n",
    "plt.grid(True)\n",
    "plt.show()\n"
   ]
  },
  {
   "cell_type": "code",
   "execution_count": null,
   "id": "7b26109e-3a87-45b0-9d77-46837aea3575",
   "metadata": {},
   "outputs": [],
   "source": []
  }
 ],
 "metadata": {
  "kernelspec": {
   "display_name": "Python 3 (ipykernel)",
   "language": "python",
   "name": "python3"
  },
  "language_info": {
   "codemirror_mode": {
    "name": "ipython",
    "version": 3
   },
   "file_extension": ".py",
   "mimetype": "text/x-python",
   "name": "python",
   "nbconvert_exporter": "python",
   "pygments_lexer": "ipython3",
   "version": "3.11.5"
  }
 },
 "nbformat": 4,
 "nbformat_minor": 5
}
